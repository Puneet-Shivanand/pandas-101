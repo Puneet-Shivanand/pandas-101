{
 "cells": [
  {
   "cell_type": "code",
   "execution_count": 7,
   "metadata": {
    "collapsed": false
   },
   "outputs": [],
   "source": [
    "import pandas as pd\n",
    "import matplotlib.pyplot as plt"
   ]
  },
  {
   "cell_type": "code",
   "execution_count": 37,
   "metadata": {
    "collapsed": false
   },
   "outputs": [
    {
     "data": {
      "text/html": [
       "<div>\n",
       "<table border=\"1\" class=\"dataframe\">\n",
       "  <thead>\n",
       "    <tr style=\"text-align: right;\">\n",
       "      <th></th>\n",
       "      <th>Sl.No</th>\n",
       "      <th>Receptor Protein</th>\n",
       "      <th>Ligand</th>\n",
       "      <th>Docking Score</th>\n",
       "      <th>Docking Result</th>\n",
       "      <th>No of Interactions</th>\n",
       "      <th>Interaction Sites</th>\n",
       "    </tr>\n",
       "  </thead>\n",
       "  <tbody>\n",
       "    <tr>\n",
       "      <th>0</th>\n",
       "      <td>1</td>\n",
       "      <td>choline</td>\n",
       "      <td>7hydroxycoumarin</td>\n",
       "      <td>-3266</td>\n",
       "      <td>YES</td>\n",
       "      <td>5</td>\n",
       "      <td>GLN-244,TYR-288,ASP-264</td>\n",
       "    </tr>\n",
       "    <tr>\n",
       "      <th>1</th>\n",
       "      <td>2</td>\n",
       "      <td>choline</td>\n",
       "      <td>7isoorientin</td>\n",
       "      <td>-6142</td>\n",
       "      <td>YES</td>\n",
       "      <td>4</td>\n",
       "      <td>NaN</td>\n",
       "    </tr>\n",
       "    <tr>\n",
       "      <th>2</th>\n",
       "      <td>3</td>\n",
       "      <td>choline</td>\n",
       "      <td>Kaempferol</td>\n",
       "      <td>-4396</td>\n",
       "      <td>YES</td>\n",
       "      <td>5</td>\n",
       "      <td>SER-150,TYR-147,ARG-104</td>\n",
       "    </tr>\n",
       "    <tr>\n",
       "      <th>3</th>\n",
       "      <td>4</td>\n",
       "      <td>choline</td>\n",
       "      <td>isoshaftoside</td>\n",
       "      <td>-6236</td>\n",
       "      <td>YES</td>\n",
       "      <td>1</td>\n",
       "      <td>NaN</td>\n",
       "    </tr>\n",
       "    <tr>\n",
       "      <th>4</th>\n",
       "      <td>5</td>\n",
       "      <td>choline</td>\n",
       "      <td>Chrysin</td>\n",
       "      <td>-4194</td>\n",
       "      <td>YES</td>\n",
       "      <td>4</td>\n",
       "      <td>LEU-70,GLY-76,ASP-264</td>\n",
       "    </tr>\n",
       "    <tr>\n",
       "      <th>5</th>\n",
       "      <td>6</td>\n",
       "      <td>choline</td>\n",
       "      <td>Isovitexin</td>\n",
       "      <td>-5616</td>\n",
       "      <td>YES</td>\n",
       "      <td>2</td>\n",
       "      <td>NaN</td>\n",
       "    </tr>\n",
       "    <tr>\n",
       "      <th>6</th>\n",
       "      <td>7</td>\n",
       "      <td>choline</td>\n",
       "      <td>Lucenin</td>\n",
       "      <td>-6450</td>\n",
       "      <td>YES</td>\n",
       "      <td>4</td>\n",
       "      <td>NaN</td>\n",
       "    </tr>\n",
       "    <tr>\n",
       "      <th>7</th>\n",
       "      <td>8</td>\n",
       "      <td>choline</td>\n",
       "      <td>Lutenin</td>\n",
       "      <td>-4498</td>\n",
       "      <td>YES</td>\n",
       "      <td>3</td>\n",
       "      <td>TYR-147,ARG-84,ARG-104</td>\n",
       "    </tr>\n",
       "    <tr>\n",
       "      <th>8</th>\n",
       "      <td>9</td>\n",
       "      <td>choline</td>\n",
       "      <td>Scopoletin</td>\n",
       "      <td>-3374</td>\n",
       "      <td>YES</td>\n",
       "      <td>3</td>\n",
       "      <td>SER-79,LEU-78,GLN-244</td>\n",
       "    </tr>\n",
       "    <tr>\n",
       "      <th>9</th>\n",
       "      <td>10</td>\n",
       "      <td>choline</td>\n",
       "      <td>umbelliferone</td>\n",
       "      <td>-3690</td>\n",
       "      <td>YES</td>\n",
       "      <td>3</td>\n",
       "      <td>ASP-264,ASN-247</td>\n",
       "    </tr>\n",
       "    <tr>\n",
       "      <th>10</th>\n",
       "      <td>11</td>\n",
       "      <td>choline</td>\n",
       "      <td>Betaine</td>\n",
       "      <td>-2748</td>\n",
       "      <td>YES</td>\n",
       "      <td>1</td>\n",
       "      <td>GLN-244</td>\n",
       "    </tr>\n",
       "    <tr>\n",
       "      <th>11</th>\n",
       "      <td>12</td>\n",
       "      <td>choline</td>\n",
       "      <td>Choline</td>\n",
       "      <td>-2332</td>\n",
       "      <td>YES</td>\n",
       "      <td>1</td>\n",
       "      <td>GLN-244</td>\n",
       "    </tr>\n",
       "    <tr>\n",
       "      <th>12</th>\n",
       "      <td>13</td>\n",
       "      <td>choline</td>\n",
       "      <td>Ephedrine</td>\n",
       "      <td>-3442</td>\n",
       "      <td>YES</td>\n",
       "      <td>2</td>\n",
       "      <td>MET-210,ASN-211</td>\n",
       "    </tr>\n",
       "    <tr>\n",
       "      <th>13</th>\n",
       "      <td>14</td>\n",
       "      <td>choline</td>\n",
       "      <td>Hypaphorine</td>\n",
       "      <td>-4232</td>\n",
       "      <td>YES</td>\n",
       "      <td>2</td>\n",
       "      <td>GLY-76,SER-75</td>\n",
       "    </tr>\n",
       "    <tr>\n",
       "      <th>14</th>\n",
       "      <td>15</td>\n",
       "      <td>choline</td>\n",
       "      <td>pseudo-ephedrine</td>\n",
       "      <td>-3428</td>\n",
       "      <td>YES</td>\n",
       "      <td>1</td>\n",
       "      <td>GLY-246</td>\n",
       "    </tr>\n",
       "    <tr>\n",
       "      <th>15</th>\n",
       "      <td>16</td>\n",
       "      <td>choline</td>\n",
       "      <td>Vasicinol</td>\n",
       "      <td>-3660</td>\n",
       "      <td>YES</td>\n",
       "      <td>1</td>\n",
       "      <td>TYR-267</td>\n",
       "    </tr>\n",
       "    <tr>\n",
       "      <th>16</th>\n",
       "      <td>17</td>\n",
       "      <td>choline</td>\n",
       "      <td>b-phenethylamine</td>\n",
       "      <td>-3218</td>\n",
       "      <td>YES</td>\n",
       "      <td>2</td>\n",
       "      <td>TYR-373,TYR-288</td>\n",
       "    </tr>\n",
       "    <tr>\n",
       "      <th>17</th>\n",
       "      <td>18</td>\n",
       "      <td>choline</td>\n",
       "      <td>asiatic acid</td>\n",
       "      <td>-5946</td>\n",
       "      <td>YES</td>\n",
       "      <td>1</td>\n",
       "      <td>ARG-84</td>\n",
       "    </tr>\n",
       "    <tr>\n",
       "      <th>18</th>\n",
       "      <td>19</td>\n",
       "      <td>choline</td>\n",
       "      <td>brahmic acid</td>\n",
       "      <td>-5918</td>\n",
       "      <td>YES</td>\n",
       "      <td>1</td>\n",
       "      <td>NaN</td>\n",
       "    </tr>\n",
       "    <tr>\n",
       "      <th>19</th>\n",
       "      <td>20</td>\n",
       "      <td>choline</td>\n",
       "      <td>Campesterol</td>\n",
       "      <td>-5666</td>\n",
       "      <td>YES</td>\n",
       "      <td>1</td>\n",
       "      <td>NaN</td>\n",
       "    </tr>\n",
       "    <tr>\n",
       "      <th>20</th>\n",
       "      <td>21</td>\n",
       "      <td>choline</td>\n",
       "      <td>Amentoflavone</td>\n",
       "      <td>-5920</td>\n",
       "      <td>YES</td>\n",
       "      <td>5</td>\n",
       "      <td>GLY-76,THH-289,GLN-244, LEU-78</td>\n",
       "    </tr>\n",
       "    <tr>\n",
       "      <th>21</th>\n",
       "      <td>22</td>\n",
       "      <td>choline</td>\n",
       "      <td>Epigallocatechin</td>\n",
       "      <td>-4426</td>\n",
       "      <td>YES</td>\n",
       "      <td>3</td>\n",
       "      <td>NaN</td>\n",
       "    </tr>\n",
       "    <tr>\n",
       "      <th>22</th>\n",
       "      <td>23</td>\n",
       "      <td>choline</td>\n",
       "      <td>Humulene</td>\n",
       "      <td>NaN</td>\n",
       "      <td>NO</td>\n",
       "      <td>NaN</td>\n",
       "      <td>NaN</td>\n",
       "    </tr>\n",
       "    <tr>\n",
       "      <th>23</th>\n",
       "      <td>24</td>\n",
       "      <td>choline</td>\n",
       "      <td>Hypericin</td>\n",
       "      <td>-5774</td>\n",
       "      <td>YES</td>\n",
       "      <td>1</td>\n",
       "      <td>NaN</td>\n",
       "    </tr>\n",
       "    <tr>\n",
       "      <th>24</th>\n",
       "      <td>25</td>\n",
       "      <td>choline</td>\n",
       "      <td>Hyperoside</td>\n",
       "      <td>-5232</td>\n",
       "      <td>YES</td>\n",
       "      <td>5</td>\n",
       "      <td>NaN</td>\n",
       "    </tr>\n",
       "    <tr>\n",
       "      <th>25</th>\n",
       "      <td>26</td>\n",
       "      <td>choline</td>\n",
       "      <td>Isoquercetin</td>\n",
       "      <td>-5310</td>\n",
       "      <td>YES</td>\n",
       "      <td>2</td>\n",
       "      <td>NaN</td>\n",
       "    </tr>\n",
       "    <tr>\n",
       "      <th>26</th>\n",
       "      <td>27</td>\n",
       "      <td>choline</td>\n",
       "      <td>Miquelianin</td>\n",
       "      <td>-5088</td>\n",
       "      <td>YES</td>\n",
       "      <td>2</td>\n",
       "      <td>NaN</td>\n",
       "    </tr>\n",
       "    <tr>\n",
       "      <th>27</th>\n",
       "      <td>28</td>\n",
       "      <td>choline</td>\n",
       "      <td>Myricetin</td>\n",
       "      <td>-4476</td>\n",
       "      <td>YES</td>\n",
       "      <td>3</td>\n",
       "      <td>NaN</td>\n",
       "    </tr>\n",
       "    <tr>\n",
       "      <th>28</th>\n",
       "      <td>29</td>\n",
       "      <td>choline</td>\n",
       "      <td>Nicotinamide</td>\n",
       "      <td>-2788</td>\n",
       "      <td>YES</td>\n",
       "      <td>3</td>\n",
       "      <td>TYR-267,TYR-288,ASP-264</td>\n",
       "    </tr>\n",
       "    <tr>\n",
       "      <th>29</th>\n",
       "      <td>30</td>\n",
       "      <td>choline</td>\n",
       "      <td>Pectin Disaccharide</td>\n",
       "      <td>-4240</td>\n",
       "      <td>YES</td>\n",
       "      <td>5</td>\n",
       "      <td>ARG-104,SER-75,LEU-78,GLN-244,ASP-264</td>\n",
       "    </tr>\n",
       "    <tr>\n",
       "      <th>...</th>\n",
       "      <td>...</td>\n",
       "      <td>...</td>\n",
       "      <td>...</td>\n",
       "      <td>...</td>\n",
       "      <td>...</td>\n",
       "      <td>...</td>\n",
       "      <td>...</td>\n",
       "    </tr>\n",
       "    <tr>\n",
       "      <th>333</th>\n",
       "      <td>334</td>\n",
       "      <td>transcriptional enhancer factor -3</td>\n",
       "      <td>Isoshaftoside</td>\n",
       "      <td>-5218</td>\n",
       "      <td>YES</td>\n",
       "      <td>1</td>\n",
       "      <td>NaN</td>\n",
       "    </tr>\n",
       "    <tr>\n",
       "      <th>334</th>\n",
       "      <td>335</td>\n",
       "      <td>transcriptional enhancer factor -3</td>\n",
       "      <td>Chrysin</td>\n",
       "      <td>-4164</td>\n",
       "      <td>YES</td>\n",
       "      <td>2</td>\n",
       "      <td>NaN</td>\n",
       "    </tr>\n",
       "    <tr>\n",
       "      <th>335</th>\n",
       "      <td>336</td>\n",
       "      <td>transcriptional enhancer factor -3</td>\n",
       "      <td>Isovitexin</td>\n",
       "      <td>-5158</td>\n",
       "      <td>YES</td>\n",
       "      <td>1</td>\n",
       "      <td>NaN</td>\n",
       "    </tr>\n",
       "    <tr>\n",
       "      <th>336</th>\n",
       "      <td>337</td>\n",
       "      <td>transcriptional enhancer factor -3</td>\n",
       "      <td>Lucenin</td>\n",
       "      <td>-5630</td>\n",
       "      <td>YES</td>\n",
       "      <td>1</td>\n",
       "      <td>NaN</td>\n",
       "    </tr>\n",
       "    <tr>\n",
       "      <th>337</th>\n",
       "      <td>338</td>\n",
       "      <td>transcriptional enhancer factor -3</td>\n",
       "      <td>Lutenin</td>\n",
       "      <td>-4606</td>\n",
       "      <td>YES</td>\n",
       "      <td>1</td>\n",
       "      <td>NaN</td>\n",
       "    </tr>\n",
       "    <tr>\n",
       "      <th>338</th>\n",
       "      <td>339</td>\n",
       "      <td>transcriptional enhancer factor -3</td>\n",
       "      <td>Scopoletin</td>\n",
       "      <td>-3550</td>\n",
       "      <td>YES</td>\n",
       "      <td>2</td>\n",
       "      <td>NaN</td>\n",
       "    </tr>\n",
       "    <tr>\n",
       "      <th>339</th>\n",
       "      <td>340</td>\n",
       "      <td>transcriptional enhancer factor -3</td>\n",
       "      <td>Umbelliferone</td>\n",
       "      <td>-3778</td>\n",
       "      <td>YES</td>\n",
       "      <td>5</td>\n",
       "      <td>NaN</td>\n",
       "    </tr>\n",
       "    <tr>\n",
       "      <th>340</th>\n",
       "      <td>341</td>\n",
       "      <td>transcriptional enhancer factor -3</td>\n",
       "      <td>Betaine</td>\n",
       "      <td>NaN</td>\n",
       "      <td>NO</td>\n",
       "      <td>NaN</td>\n",
       "      <td>NaN</td>\n",
       "    </tr>\n",
       "    <tr>\n",
       "      <th>341</th>\n",
       "      <td>342</td>\n",
       "      <td>transcriptional enhancer factor -3</td>\n",
       "      <td>Choline</td>\n",
       "      <td>-2496</td>\n",
       "      <td>YES</td>\n",
       "      <td>1</td>\n",
       "      <td>NaN</td>\n",
       "    </tr>\n",
       "    <tr>\n",
       "      <th>342</th>\n",
       "      <td>343</td>\n",
       "      <td>transcriptional enhancer factor -3</td>\n",
       "      <td>Ephedrine</td>\n",
       "      <td>-3524</td>\n",
       "      <td>YES</td>\n",
       "      <td>1</td>\n",
       "      <td>NaN</td>\n",
       "    </tr>\n",
       "    <tr>\n",
       "      <th>343</th>\n",
       "      <td>344</td>\n",
       "      <td>transcriptional enhancer factor -3</td>\n",
       "      <td>Hypaphorine</td>\n",
       "      <td>NaN</td>\n",
       "      <td>NO</td>\n",
       "      <td>NaN</td>\n",
       "      <td>NaN</td>\n",
       "    </tr>\n",
       "    <tr>\n",
       "      <th>344</th>\n",
       "      <td>345</td>\n",
       "      <td>transcriptional enhancer factor -3</td>\n",
       "      <td>pseudo-ephedrine</td>\n",
       "      <td>NaN</td>\n",
       "      <td>NO</td>\n",
       "      <td>NaN</td>\n",
       "      <td>NaN</td>\n",
       "    </tr>\n",
       "    <tr>\n",
       "      <th>345</th>\n",
       "      <td>346</td>\n",
       "      <td>transcriptional enhancer factor -3</td>\n",
       "      <td>Vasicinol</td>\n",
       "      <td>-3604</td>\n",
       "      <td>YES</td>\n",
       "      <td>1</td>\n",
       "      <td>NaN</td>\n",
       "    </tr>\n",
       "    <tr>\n",
       "      <th>346</th>\n",
       "      <td>347</td>\n",
       "      <td>transcriptional enhancer factor -3</td>\n",
       "      <td>b-phenethylamine</td>\n",
       "      <td>NaN</td>\n",
       "      <td>NO</td>\n",
       "      <td>NaN</td>\n",
       "      <td>NaN</td>\n",
       "    </tr>\n",
       "    <tr>\n",
       "      <th>347</th>\n",
       "      <td>348</td>\n",
       "      <td>transcriptional enhancer factor -3</td>\n",
       "      <td>asiatic acid</td>\n",
       "      <td>-5220</td>\n",
       "      <td>YES</td>\n",
       "      <td>3</td>\n",
       "      <td>NaN</td>\n",
       "    </tr>\n",
       "    <tr>\n",
       "      <th>348</th>\n",
       "      <td>349</td>\n",
       "      <td>transcriptional enhancer factor -3</td>\n",
       "      <td>brahmic acid</td>\n",
       "      <td>-4892</td>\n",
       "      <td>YES</td>\n",
       "      <td>1</td>\n",
       "      <td>NaN</td>\n",
       "    </tr>\n",
       "    <tr>\n",
       "      <th>349</th>\n",
       "      <td>350</td>\n",
       "      <td>transcriptional enhancer factor -3</td>\n",
       "      <td>Campesterol</td>\n",
       "      <td>-5168</td>\n",
       "      <td>YES</td>\n",
       "      <td>1</td>\n",
       "      <td>NaN</td>\n",
       "    </tr>\n",
       "    <tr>\n",
       "      <th>350</th>\n",
       "      <td>351</td>\n",
       "      <td>transcriptional enhancer factor -3</td>\n",
       "      <td>Amentoflavone</td>\n",
       "      <td>-5266</td>\n",
       "      <td>YES</td>\n",
       "      <td>2</td>\n",
       "      <td>NaN</td>\n",
       "    </tr>\n",
       "    <tr>\n",
       "      <th>351</th>\n",
       "      <td>352</td>\n",
       "      <td>transcriptional enhancer factor -3</td>\n",
       "      <td>Epigallocatechin</td>\n",
       "      <td>-4544</td>\n",
       "      <td>YES</td>\n",
       "      <td>1</td>\n",
       "      <td>NaN</td>\n",
       "    </tr>\n",
       "    <tr>\n",
       "      <th>352</th>\n",
       "      <td>353</td>\n",
       "      <td>transcriptional enhancer factor -3</td>\n",
       "      <td>Humulene</td>\n",
       "      <td>NaN</td>\n",
       "      <td>NO</td>\n",
       "      <td>NaN</td>\n",
       "      <td>NaN</td>\n",
       "    </tr>\n",
       "    <tr>\n",
       "      <th>353</th>\n",
       "      <td>354</td>\n",
       "      <td>transcriptional enhancer factor -3</td>\n",
       "      <td>Hypericin</td>\n",
       "      <td>-4558</td>\n",
       "      <td>YES</td>\n",
       "      <td>1</td>\n",
       "      <td>NaN</td>\n",
       "    </tr>\n",
       "    <tr>\n",
       "      <th>354</th>\n",
       "      <td>355</td>\n",
       "      <td>transcriptional enhancer factor -3</td>\n",
       "      <td>Hyperoside</td>\n",
       "      <td>-4530</td>\n",
       "      <td>YES</td>\n",
       "      <td>1</td>\n",
       "      <td>NaN</td>\n",
       "    </tr>\n",
       "    <tr>\n",
       "      <th>355</th>\n",
       "      <td>356</td>\n",
       "      <td>transcriptional enhancer factor -3</td>\n",
       "      <td>Isoquercetin</td>\n",
       "      <td>-4502</td>\n",
       "      <td>YES</td>\n",
       "      <td>6</td>\n",
       "      <td>NaN</td>\n",
       "    </tr>\n",
       "    <tr>\n",
       "      <th>356</th>\n",
       "      <td>357</td>\n",
       "      <td>transcriptional enhancer factor -3</td>\n",
       "      <td>Miquelianin</td>\n",
       "      <td>-5296</td>\n",
       "      <td>YES</td>\n",
       "      <td>4</td>\n",
       "      <td>NaN</td>\n",
       "    </tr>\n",
       "    <tr>\n",
       "      <th>357</th>\n",
       "      <td>358</td>\n",
       "      <td>transcriptional enhancer factor -3</td>\n",
       "      <td>Myricetin</td>\n",
       "      <td>-4718</td>\n",
       "      <td>YES</td>\n",
       "      <td>1</td>\n",
       "      <td>NaN</td>\n",
       "    </tr>\n",
       "    <tr>\n",
       "      <th>358</th>\n",
       "      <td>359</td>\n",
       "      <td>transcriptional enhancer factor -3</td>\n",
       "      <td>Nicotinamide</td>\n",
       "      <td>NaN</td>\n",
       "      <td>NO</td>\n",
       "      <td>NaN</td>\n",
       "      <td>NaN</td>\n",
       "    </tr>\n",
       "    <tr>\n",
       "      <th>359</th>\n",
       "      <td>360</td>\n",
       "      <td>transcriptional enhancer factor -3</td>\n",
       "      <td>Pectin Disaccharide</td>\n",
       "      <td>-4284</td>\n",
       "      <td>YES</td>\n",
       "      <td>4</td>\n",
       "      <td>NaN</td>\n",
       "    </tr>\n",
       "    <tr>\n",
       "      <th>360</th>\n",
       "      <td>361</td>\n",
       "      <td>transcriptional enhancer factor -3</td>\n",
       "      <td>p-hydroxybenzoic acid</td>\n",
       "      <td>-2788</td>\n",
       "      <td>YES</td>\n",
       "      <td>1</td>\n",
       "      <td>NaN</td>\n",
       "    </tr>\n",
       "    <tr>\n",
       "      <th>361</th>\n",
       "      <td>362</td>\n",
       "      <td>transcriptional enhancer factor -3</td>\n",
       "      <td>vanillic acid</td>\n",
       "      <td>-3316</td>\n",
       "      <td>YES</td>\n",
       "      <td>1</td>\n",
       "      <td>NaN</td>\n",
       "    </tr>\n",
       "    <tr>\n",
       "      <th>362</th>\n",
       "      <td>363</td>\n",
       "      <td>transcriptional enhancer factor -3</td>\n",
       "      <td>b-sitosterrol</td>\n",
       "      <td>-5494</td>\n",
       "      <td>YES</td>\n",
       "      <td>1</td>\n",
       "      <td>NaN</td>\n",
       "    </tr>\n",
       "  </tbody>\n",
       "</table>\n",
       "<p>363 rows × 7 columns</p>\n",
       "</div>"
      ],
      "text/plain": [
       "     Sl.No                    Receptor Protein                 Ligand  \\\n",
       "0        1                             choline       7hydroxycoumarin   \n",
       "1        2                             choline           7isoorientin   \n",
       "2        3                             choline             Kaempferol   \n",
       "3        4                             choline          isoshaftoside   \n",
       "4        5                             choline                Chrysin   \n",
       "5        6                             choline             Isovitexin   \n",
       "6        7                             choline                Lucenin   \n",
       "7        8                             choline                Lutenin   \n",
       "8        9                             choline             Scopoletin   \n",
       "9       10                             choline          umbelliferone   \n",
       "10      11                             choline                Betaine   \n",
       "11      12                             choline                Choline   \n",
       "12      13                             choline              Ephedrine   \n",
       "13      14                             choline            Hypaphorine   \n",
       "14      15                             choline       pseudo-ephedrine   \n",
       "15      16                             choline              Vasicinol   \n",
       "16      17                             choline       b-phenethylamine   \n",
       "17      18                             choline           asiatic acid   \n",
       "18      19                             choline           brahmic acid   \n",
       "19      20                             choline            Campesterol   \n",
       "20      21                             choline          Amentoflavone   \n",
       "21      22                             choline       Epigallocatechin   \n",
       "22      23                             choline               Humulene   \n",
       "23      24                             choline              Hypericin   \n",
       "24      25                             choline             Hyperoside   \n",
       "25      26                             choline           Isoquercetin   \n",
       "26      27                             choline            Miquelianin   \n",
       "27      28                             choline              Myricetin   \n",
       "28      29                             choline           Nicotinamide   \n",
       "29      30                             choline    Pectin Disaccharide   \n",
       "..     ...                                 ...                    ...   \n",
       "333    334  transcriptional enhancer factor -3          Isoshaftoside   \n",
       "334    335  transcriptional enhancer factor -3                Chrysin   \n",
       "335    336  transcriptional enhancer factor -3             Isovitexin   \n",
       "336    337  transcriptional enhancer factor -3                Lucenin   \n",
       "337    338  transcriptional enhancer factor -3                Lutenin   \n",
       "338    339  transcriptional enhancer factor -3             Scopoletin   \n",
       "339    340  transcriptional enhancer factor -3          Umbelliferone   \n",
       "340    341  transcriptional enhancer factor -3                Betaine   \n",
       "341    342  transcriptional enhancer factor -3                Choline   \n",
       "342    343  transcriptional enhancer factor -3              Ephedrine   \n",
       "343    344  transcriptional enhancer factor -3            Hypaphorine   \n",
       "344    345  transcriptional enhancer factor -3       pseudo-ephedrine   \n",
       "345    346  transcriptional enhancer factor -3              Vasicinol   \n",
       "346    347  transcriptional enhancer factor -3       b-phenethylamine   \n",
       "347    348  transcriptional enhancer factor -3           asiatic acid   \n",
       "348    349  transcriptional enhancer factor -3           brahmic acid   \n",
       "349    350  transcriptional enhancer factor -3            Campesterol   \n",
       "350    351  transcriptional enhancer factor -3          Amentoflavone   \n",
       "351    352  transcriptional enhancer factor -3       Epigallocatechin   \n",
       "352    353  transcriptional enhancer factor -3               Humulene   \n",
       "353    354  transcriptional enhancer factor -3              Hypericin   \n",
       "354    355  transcriptional enhancer factor -3             Hyperoside   \n",
       "355    356  transcriptional enhancer factor -3           Isoquercetin   \n",
       "356    357  transcriptional enhancer factor -3            Miquelianin   \n",
       "357    358  transcriptional enhancer factor -3              Myricetin   \n",
       "358    359  transcriptional enhancer factor -3           Nicotinamide   \n",
       "359    360  transcriptional enhancer factor -3    Pectin Disaccharide   \n",
       "360    361  transcriptional enhancer factor -3  p-hydroxybenzoic acid   \n",
       "361    362  transcriptional enhancer factor -3          vanillic acid   \n",
       "362    363  transcriptional enhancer factor -3          b-sitosterrol   \n",
       "\n",
       "    Docking Score Docking Result  No of Interactions  \\\n",
       "0           -3266            YES                   5   \n",
       "1           -6142            YES                   4   \n",
       "2           -4396            YES                   5   \n",
       "3           -6236            YES                   1   \n",
       "4           -4194            YES                   4   \n",
       "5           -5616            YES                   2   \n",
       "6           -6450            YES                   4   \n",
       "7           -4498            YES                   3   \n",
       "8           -3374            YES                   3   \n",
       "9           -3690            YES                   3   \n",
       "10          -2748            YES                   1   \n",
       "11          -2332            YES                   1   \n",
       "12          -3442            YES                   2   \n",
       "13          -4232            YES                   2   \n",
       "14          -3428            YES                   1   \n",
       "15          -3660            YES                   1   \n",
       "16          -3218            YES                   2   \n",
       "17          -5946            YES                   1   \n",
       "18          -5918            YES                   1   \n",
       "19          -5666            YES                   1   \n",
       "20          -5920            YES                   5   \n",
       "21          -4426            YES                   3   \n",
       "22            NaN             NO                 NaN   \n",
       "23          -5774            YES                   1   \n",
       "24          -5232            YES                   5   \n",
       "25          -5310            YES                   2   \n",
       "26          -5088            YES                   2   \n",
       "27          -4476            YES                   3   \n",
       "28          -2788            YES                   3   \n",
       "29          -4240            YES                   5   \n",
       "..            ...            ...                 ...   \n",
       "333         -5218            YES                   1   \n",
       "334         -4164            YES                   2   \n",
       "335         -5158            YES                   1   \n",
       "336         -5630            YES                   1   \n",
       "337         -4606            YES                   1   \n",
       "338         -3550            YES                   2   \n",
       "339         -3778            YES                   5   \n",
       "340           NaN             NO                 NaN   \n",
       "341         -2496            YES                   1   \n",
       "342         -3524            YES                   1   \n",
       "343           NaN             NO                 NaN   \n",
       "344           NaN             NO                 NaN   \n",
       "345         -3604            YES                   1   \n",
       "346           NaN             NO                 NaN   \n",
       "347         -5220            YES                   3   \n",
       "348         -4892            YES                   1   \n",
       "349         -5168            YES                   1   \n",
       "350         -5266            YES                   2   \n",
       "351         -4544            YES                   1   \n",
       "352           NaN             NO                 NaN   \n",
       "353         -4558            YES                   1   \n",
       "354         -4530            YES                   1   \n",
       "355         -4502            YES                   6   \n",
       "356         -5296            YES                   4   \n",
       "357         -4718            YES                   1   \n",
       "358           NaN             NO                 NaN   \n",
       "359         -4284            YES                   4   \n",
       "360         -2788            YES                   1   \n",
       "361         -3316            YES                   1   \n",
       "362         -5494            YES                   1   \n",
       "\n",
       "                         Interaction Sites  \n",
       "0                  GLN-244,TYR-288,ASP-264  \n",
       "1                                      NaN  \n",
       "2                  SER-150,TYR-147,ARG-104  \n",
       "3                                      NaN  \n",
       "4                    LEU-70,GLY-76,ASP-264  \n",
       "5                                      NaN  \n",
       "6                                      NaN  \n",
       "7                   TYR-147,ARG-84,ARG-104  \n",
       "8                    SER-79,LEU-78,GLN-244  \n",
       "9                          ASP-264,ASN-247  \n",
       "10                                 GLN-244  \n",
       "11                                 GLN-244  \n",
       "12                         MET-210,ASN-211  \n",
       "13                           GLY-76,SER-75  \n",
       "14                                 GLY-246  \n",
       "15                                 TYR-267  \n",
       "16                         TYR-373,TYR-288  \n",
       "17                                  ARG-84  \n",
       "18                                     NaN  \n",
       "19                                     NaN  \n",
       "20          GLY-76,THH-289,GLN-244, LEU-78  \n",
       "21                                     NaN  \n",
       "22                                     NaN  \n",
       "23                                     NaN  \n",
       "24                                     NaN  \n",
       "25                                     NaN  \n",
       "26                                     NaN  \n",
       "27                                     NaN  \n",
       "28                 TYR-267,TYR-288,ASP-264  \n",
       "29   ARG-104,SER-75,LEU-78,GLN-244,ASP-264  \n",
       "..                                     ...  \n",
       "333                                    NaN  \n",
       "334                                    NaN  \n",
       "335                                    NaN  \n",
       "336                                    NaN  \n",
       "337                                    NaN  \n",
       "338                                    NaN  \n",
       "339                                    NaN  \n",
       "340                                    NaN  \n",
       "341                                    NaN  \n",
       "342                                    NaN  \n",
       "343                                    NaN  \n",
       "344                                    NaN  \n",
       "345                                    NaN  \n",
       "346                                    NaN  \n",
       "347                                    NaN  \n",
       "348                                    NaN  \n",
       "349                                    NaN  \n",
       "350                                    NaN  \n",
       "351                                    NaN  \n",
       "352                                    NaN  \n",
       "353                                    NaN  \n",
       "354                                    NaN  \n",
       "355                                    NaN  \n",
       "356                                    NaN  \n",
       "357                                    NaN  \n",
       "358                                    NaN  \n",
       "359                                    NaN  \n",
       "360                                    NaN  \n",
       "361                                    NaN  \n",
       "362                                    NaN  \n",
       "\n",
       "[363 rows x 7 columns]"
      ]
     },
     "execution_count": 37,
     "metadata": {},
     "output_type": "execute_result"
    }
   ],
   "source": [
    "pd.read_csv('DOCK_OUT.CSV')"
   ]
  },
  {
   "cell_type": "code",
   "execution_count": 4,
   "metadata": {
    "collapsed": false
   },
   "outputs": [
    {
     "data": {
      "text/plain": [
       "0    1\n",
       "1    2\n",
       "2    3\n",
       "3    4\n",
       "4    5\n",
       "dtype: int64"
      ]
     },
     "execution_count": 4,
     "metadata": {},
     "output_type": "execute_result"
    }
   ],
   "source": [
    "s = pd.Series([1,2,3,4,5])\n",
    "s\n"
   ]
  },
  {
   "cell_type": "code",
   "execution_count": 11,
   "metadata": {
    "collapsed": false,
    "scrolled": true
   },
   "outputs": [
    {
     "data": {
      "text/plain": [
       "array([1, 2, 3, 4, 5], dtype=int64)"
      ]
     },
     "execution_count": 11,
     "metadata": {},
     "output_type": "execute_result"
    }
   ],
   "source": [
    "s.index\n",
    "s.values"
   ]
  },
  {
   "cell_type": "code",
   "execution_count": 5,
   "metadata": {
    "collapsed": false,
    "scrolled": true
   },
   "outputs": [
    {
     "data": {
      "text/plain": [
       "Belgium        11.3\n",
       "Germany        81.3\n",
       "India          99.3\n",
       "Netherlands    16.9\n",
       "dtype: float64"
      ]
     },
     "execution_count": 5,
     "metadata": {},
     "output_type": "execute_result"
    }
   ],
   "source": [
    "population = pd.Series({'Germany':81.3, 'Belgium':11.3, 'India':99.3, 'Netherlands':16.9})\n",
    "population"
   ]
  },
  {
   "cell_type": "code",
   "execution_count": 15,
   "metadata": {
    "collapsed": false,
    "scrolled": true
   },
   "outputs": [
    {
     "data": {
      "text/plain": [
       "99.299999999999997"
      ]
     },
     "execution_count": 15,
     "metadata": {},
     "output_type": "execute_result"
    }
   ],
   "source": [
    "population['India']"
   ]
  },
  {
   "cell_type": "markdown",
   "metadata": {},
   "source": [
    "But with the Power of numpy arrays"
   ]
  },
  {
   "cell_type": "code",
   "execution_count": 19,
   "metadata": {
    "collapsed": false
   },
   "outputs": [
    {
     "data": {
      "text/plain": [
       "Belgium        11300\n",
       "Germany        81300\n",
       "India          99300\n",
       "Netherlands    16900\n",
       "dtype: float64"
      ]
     },
     "execution_count": 19,
     "metadata": {},
     "output_type": "execute_result"
    }
   ],
   "source": [
    "population * 1000"
   ]
  },
  {
   "cell_type": "code",
   "execution_count": 17,
   "metadata": {
    "collapsed": false
   },
   "outputs": [
    {
     "data": {
      "text/plain": [
       "99.299999999999997"
      ]
     },
     "execution_count": 17,
     "metadata": {},
     "output_type": "execute_result"
    }
   ],
   "source": [
    "population['India']"
   ]
  },
  {
   "cell_type": "code",
   "execution_count": 18,
   "metadata": {
    "collapsed": false
   },
   "outputs": [
    {
     "data": {
      "text/plain": [
       "Germany        81.3\n",
       "India          99.3\n",
       "Netherlands    16.9\n",
       "dtype: float64"
      ]
     },
     "execution_count": 18,
     "metadata": {},
     "output_type": "execute_result"
    }
   ],
   "source": [
    "population['Germany':'Netherlands']"
   ]
  },
  {
   "cell_type": "code",
   "execution_count": 7,
   "metadata": {
    "collapsed": false
   },
   "outputs": [
    {
     "data": {
      "text/plain": [
       "Germany    81.3\n",
       "India      99.3\n",
       "dtype: float64"
      ]
     },
     "execution_count": 7,
     "metadata": {},
     "output_type": "execute_result"
    }
   ],
   "source": [
    "population[population > 20]"
   ]
  },
  {
   "cell_type": "code",
   "execution_count": 9,
   "metadata": {
    "collapsed": false
   },
   "outputs": [
    {
     "data": {
      "text/plain": [
       "52.199999999999996"
      ]
     },
     "execution_count": 9,
     "metadata": {},
     "output_type": "execute_result"
    }
   ],
   "source": [
    "population.mean()"
   ]
  },
  {
   "cell_type": "markdown",
   "metadata": {},
   "source": [
    "Alignment!!"
   ]
  },
  {
   "cell_type": "code",
   "execution_count": 13,
   "metadata": {
    "collapsed": true
   },
   "outputs": [],
   "source": [
    "s1 = population[['Belgium','India']]\n",
    "s2 = population[['India', 'Germany']]"
   ]
  },
  {
   "cell_type": "code",
   "execution_count": 11,
   "metadata": {
    "collapsed": false
   },
   "outputs": [
    {
     "data": {
      "text/plain": [
       "Belgium    11.3\n",
       "India      99.3\n",
       "dtype: float64"
      ]
     },
     "execution_count": 11,
     "metadata": {},
     "output_type": "execute_result"
    }
   ],
   "source": [
    "s1"
   ]
  },
  {
   "cell_type": "code",
   "execution_count": 14,
   "metadata": {
    "collapsed": false
   },
   "outputs": [
    {
     "data": {
      "text/plain": [
       "India      99.3\n",
       "Germany    81.3\n",
       "dtype: float64"
      ]
     },
     "execution_count": 14,
     "metadata": {},
     "output_type": "execute_result"
    }
   ],
   "source": [
    "s2"
   ]
  },
  {
   "cell_type": "code",
   "execution_count": 15,
   "metadata": {
    "collapsed": false
   },
   "outputs": [
    {
     "data": {
      "text/plain": [
       "Belgium      NaN\n",
       "Germany      NaN\n",
       "India      198.6\n",
       "dtype: float64"
      ]
     },
     "execution_count": 15,
     "metadata": {},
     "output_type": "execute_result"
    }
   ],
   "source": [
    "s1 + s2"
   ]
  },
  {
   "cell_type": "markdown",
   "metadata": {},
   "source": [
    "DATAFRAME: a combination of series in both x and y axis"
   ]
  },
  {
   "cell_type": "code",
   "execution_count": 3,
   "metadata": {
    "collapsed": false
   },
   "outputs": [
    {
     "data": {
      "text/html": [
       "<div>\n",
       "<table border=\"1\" class=\"dataframe\">\n",
       "  <thead>\n",
       "    <tr style=\"text-align: right;\">\n",
       "      <th></th>\n",
       "      <th>area</th>\n",
       "      <th>capitol</th>\n",
       "      <th>country</th>\n",
       "      <th>pop</th>\n",
       "    </tr>\n",
       "  </thead>\n",
       "  <tbody>\n",
       "    <tr>\n",
       "      <th>0</th>\n",
       "      <td>12345</td>\n",
       "      <td>Brussels</td>\n",
       "      <td>Belgium</td>\n",
       "      <td>11.3</td>\n",
       "    </tr>\n",
       "    <tr>\n",
       "      <th>1</th>\n",
       "      <td>67239</td>\n",
       "      <td>Berlin</td>\n",
       "      <td>Germany</td>\n",
       "      <td>64.3</td>\n",
       "    </tr>\n",
       "    <tr>\n",
       "      <th>2</th>\n",
       "      <td>99993</td>\n",
       "      <td>New Delhi</td>\n",
       "      <td>India</td>\n",
       "      <td>88.9</td>\n",
       "    </tr>\n",
       "    <tr>\n",
       "      <th>3</th>\n",
       "      <td>23456</td>\n",
       "      <td>Amsterdam</td>\n",
       "      <td>Netherlands</td>\n",
       "      <td>77.4</td>\n",
       "    </tr>\n",
       "  </tbody>\n",
       "</table>\n",
       "</div>"
      ],
      "text/plain": [
       "    area    capitol      country   pop\n",
       "0  12345   Brussels      Belgium  11.3\n",
       "1  67239     Berlin      Germany  64.3\n",
       "2  99993  New Delhi        India  88.9\n",
       "3  23456  Amsterdam  Netherlands  77.4"
      ]
     },
     "execution_count": 3,
     "metadata": {},
     "output_type": "execute_result"
    }
   ],
   "source": [
    "data = {\n",
    "    'country':['Belgium','Germany','India','Netherlands'],\n",
    "    'pop':[11.3,64.3,88.9,77.4],\n",
    "    'area':[12345,67239,99993,23456],\n",
    "    'capitol':['Brussels','Berlin','New Delhi','Amsterdam']\n",
    "       }\n",
    "countries = pd.DataFrame(data)\n",
    "countries"
   ]
  },
  {
   "cell_type": "code",
   "execution_count": 17,
   "metadata": {
    "collapsed": false
   },
   "outputs": [
    {
     "data": {
      "text/plain": [
       "Int64Index([0, 1, 2, 3], dtype='int64')"
      ]
     },
     "execution_count": 17,
     "metadata": {},
     "output_type": "execute_result"
    }
   ],
   "source": [
    "countries.index"
   ]
  },
  {
   "cell_type": "code",
   "execution_count": 18,
   "metadata": {
    "collapsed": false
   },
   "outputs": [
    {
     "data": {
      "text/plain": [
       "Index(['area', 'capitol', 'country', 'pop'], dtype='object')"
      ]
     },
     "execution_count": 18,
     "metadata": {},
     "output_type": "execute_result"
    }
   ],
   "source": [
    "countries.columns"
   ]
  },
  {
   "cell_type": "code",
   "execution_count": 19,
   "metadata": {
    "collapsed": false
   },
   "outputs": [
    {
     "data": {
      "text/plain": [
       "<bound method DataFrame.diff of     area    capitol      country   pop\n",
       "0  12345   Brussels      Belgium  11.3\n",
       "1  67239     Berlin      Germany  64.3\n",
       "2  99993  New Delhi        India  88.9\n",
       "3  23456  Amsterdam  Netherlands  77.4>"
      ]
     },
     "execution_count": 19,
     "metadata": {},
     "output_type": "execute_result"
    }
   ],
   "source": [
    "countries.diff"
   ]
  },
  {
   "cell_type": "code",
   "execution_count": 20,
   "metadata": {
    "collapsed": false
   },
   "outputs": [
    {
     "data": {
      "text/plain": [
       "area         int64\n",
       "capitol     object\n",
       "country     object\n",
       "pop        float64\n",
       "dtype: object"
      ]
     },
     "execution_count": 20,
     "metadata": {},
     "output_type": "execute_result"
    }
   ],
   "source": [
    "countries.dtypes\n"
   ]
  },
  {
   "cell_type": "code",
   "execution_count": 21,
   "metadata": {
    "collapsed": false
   },
   "outputs": [
    {
     "name": "stdout",
     "output_type": "stream",
     "text": [
      "<class 'pandas.core.frame.DataFrame'>\n",
      "Int64Index: 4 entries, 0 to 3\n",
      "Data columns (total 4 columns):\n",
      "area       4 non-null int64\n",
      "capitol    4 non-null object\n",
      "country    4 non-null object\n",
      "pop        4 non-null float64\n",
      "dtypes: float64(1), int64(1), object(2)\n",
      "memory usage: 160.0+ bytes\n"
     ]
    }
   ],
   "source": [
    "countries.info()\n"
   ]
  },
  {
   "cell_type": "code",
   "execution_count": 22,
   "metadata": {
    "collapsed": false
   },
   "outputs": [
    {
     "data": {
      "text/plain": [
       "array([[12345, 'Brussels', 'Belgium', 11.3],\n",
       "       [67239, 'Berlin', 'Germany', 64.3],\n",
       "       [99993, 'New Delhi', 'India', 88.9],\n",
       "       [23456, 'Amsterdam', 'Netherlands', 77.4]], dtype=object)"
      ]
     },
     "execution_count": 22,
     "metadata": {},
     "output_type": "execute_result"
    }
   ],
   "source": [
    "countries.values"
   ]
  },
  {
   "cell_type": "markdown",
   "metadata": {},
   "source": [
    "Change the Index to another column "
   ]
  },
  {
   "cell_type": "code",
   "execution_count": 23,
   "metadata": {
    "collapsed": false
   },
   "outputs": [
    {
     "data": {
      "text/html": [
       "<div>\n",
       "<table border=\"1\" class=\"dataframe\">\n",
       "  <thead>\n",
       "    <tr style=\"text-align: right;\">\n",
       "      <th></th>\n",
       "      <th>area</th>\n",
       "      <th>capitol</th>\n",
       "      <th>pop</th>\n",
       "    </tr>\n",
       "    <tr>\n",
       "      <th>country</th>\n",
       "      <th></th>\n",
       "      <th></th>\n",
       "      <th></th>\n",
       "    </tr>\n",
       "  </thead>\n",
       "  <tbody>\n",
       "    <tr>\n",
       "      <th>Belgium</th>\n",
       "      <td>12345</td>\n",
       "      <td>Brussels</td>\n",
       "      <td>11.3</td>\n",
       "    </tr>\n",
       "    <tr>\n",
       "      <th>Germany</th>\n",
       "      <td>67239</td>\n",
       "      <td>Berlin</td>\n",
       "      <td>64.3</td>\n",
       "    </tr>\n",
       "    <tr>\n",
       "      <th>India</th>\n",
       "      <td>99993</td>\n",
       "      <td>New Delhi</td>\n",
       "      <td>88.9</td>\n",
       "    </tr>\n",
       "    <tr>\n",
       "      <th>Netherlands</th>\n",
       "      <td>23456</td>\n",
       "      <td>Amsterdam</td>\n",
       "      <td>77.4</td>\n",
       "    </tr>\n",
       "  </tbody>\n",
       "</table>\n",
       "</div>"
      ],
      "text/plain": [
       "              area    capitol   pop\n",
       "country                            \n",
       "Belgium      12345   Brussels  11.3\n",
       "Germany      67239     Berlin  64.3\n",
       "India        99993  New Delhi  88.9\n",
       "Netherlands  23456  Amsterdam  77.4"
      ]
     },
     "execution_count": 23,
     "metadata": {},
     "output_type": "execute_result"
    }
   ],
   "source": [
    "countries = countries.set_index('country')\n",
    "countries"
   ]
  },
  {
   "cell_type": "code",
   "execution_count": 24,
   "metadata": {
    "collapsed": false
   },
   "outputs": [
    {
     "data": {
      "text/html": [
       "<div>\n",
       "<table border=\"1\" class=\"dataframe\">\n",
       "  <thead>\n",
       "    <tr style=\"text-align: right;\">\n",
       "      <th></th>\n",
       "      <th>area</th>\n",
       "      <th>pop</th>\n",
       "    </tr>\n",
       "  </thead>\n",
       "  <tbody>\n",
       "    <tr>\n",
       "      <th>count</th>\n",
       "      <td>4.000000</td>\n",
       "      <td>4.000000</td>\n",
       "    </tr>\n",
       "    <tr>\n",
       "      <th>mean</th>\n",
       "      <td>50758.250000</td>\n",
       "      <td>60.475000</td>\n",
       "    </tr>\n",
       "    <tr>\n",
       "      <th>std</th>\n",
       "      <td>40483.191404</td>\n",
       "      <td>34.289199</td>\n",
       "    </tr>\n",
       "    <tr>\n",
       "      <th>min</th>\n",
       "      <td>12345.000000</td>\n",
       "      <td>11.300000</td>\n",
       "    </tr>\n",
       "    <tr>\n",
       "      <th>25%</th>\n",
       "      <td>20678.250000</td>\n",
       "      <td>51.050000</td>\n",
       "    </tr>\n",
       "    <tr>\n",
       "      <th>50%</th>\n",
       "      <td>45347.500000</td>\n",
       "      <td>70.850000</td>\n",
       "    </tr>\n",
       "    <tr>\n",
       "      <th>75%</th>\n",
       "      <td>75427.500000</td>\n",
       "      <td>80.275000</td>\n",
       "    </tr>\n",
       "    <tr>\n",
       "      <th>max</th>\n",
       "      <td>99993.000000</td>\n",
       "      <td>88.900000</td>\n",
       "    </tr>\n",
       "  </tbody>\n",
       "</table>\n",
       "</div>"
      ],
      "text/plain": [
       "               area        pop\n",
       "count      4.000000   4.000000\n",
       "mean   50758.250000  60.475000\n",
       "std    40483.191404  34.289199\n",
       "min    12345.000000  11.300000\n",
       "25%    20678.250000  51.050000\n",
       "50%    45347.500000  70.850000\n",
       "75%    75427.500000  80.275000\n",
       "max    99993.000000  88.900000"
      ]
     },
     "execution_count": 24,
     "metadata": {},
     "output_type": "execute_result"
    }
   ],
   "source": [
    " countries.describe()"
   ]
  },
  {
   "cell_type": "code",
   "execution_count": 12,
   "metadata": {
    "collapsed": false
   },
   "outputs": [],
   "source": [
    "countries['area'].plot(kind='bar')\n",
    "plt.show()"
   ]
  },
  {
   "cell_type": "code",
   "execution_count": 35,
   "metadata": {
    "collapsed": false
   },
   "outputs": [],
   "source": [
    "prot_data = pd.read_csv('DOCK_OUT.csv',sep=',')"
   ]
  },
  {
   "cell_type": "code",
   "execution_count": 36,
   "metadata": {
    "collapsed": false
   },
   "outputs": [
    {
     "data": {
      "text/html": [
       "<div>\n",
       "<table border=\"1\" class=\"dataframe\">\n",
       "  <thead>\n",
       "    <tr style=\"text-align: right;\">\n",
       "      <th></th>\n",
       "      <th>Sl.No</th>\n",
       "      <th>Receptor Protein</th>\n",
       "      <th>Ligand</th>\n",
       "      <th>Docking Score</th>\n",
       "      <th>Docking Result</th>\n",
       "      <th>No of Interactions</th>\n",
       "      <th>Interaction Sites</th>\n",
       "    </tr>\n",
       "  </thead>\n",
       "  <tbody>\n",
       "    <tr>\n",
       "      <th>0</th>\n",
       "      <td>1</td>\n",
       "      <td>choline</td>\n",
       "      <td>7hydroxycoumarin</td>\n",
       "      <td>-3266</td>\n",
       "      <td>YES</td>\n",
       "      <td>5</td>\n",
       "      <td>GLN-244,TYR-288,ASP-264</td>\n",
       "    </tr>\n",
       "    <tr>\n",
       "      <th>1</th>\n",
       "      <td>2</td>\n",
       "      <td>choline</td>\n",
       "      <td>7isoorientin</td>\n",
       "      <td>-6142</td>\n",
       "      <td>YES</td>\n",
       "      <td>4</td>\n",
       "      <td>NaN</td>\n",
       "    </tr>\n",
       "    <tr>\n",
       "      <th>2</th>\n",
       "      <td>3</td>\n",
       "      <td>choline</td>\n",
       "      <td>Kaempferol</td>\n",
       "      <td>-4396</td>\n",
       "      <td>YES</td>\n",
       "      <td>5</td>\n",
       "      <td>SER-150,TYR-147,ARG-104</td>\n",
       "    </tr>\n",
       "    <tr>\n",
       "      <th>3</th>\n",
       "      <td>4</td>\n",
       "      <td>choline</td>\n",
       "      <td>isoshaftoside</td>\n",
       "      <td>-6236</td>\n",
       "      <td>YES</td>\n",
       "      <td>1</td>\n",
       "      <td>NaN</td>\n",
       "    </tr>\n",
       "    <tr>\n",
       "      <th>4</th>\n",
       "      <td>5</td>\n",
       "      <td>choline</td>\n",
       "      <td>Chrysin</td>\n",
       "      <td>-4194</td>\n",
       "      <td>YES</td>\n",
       "      <td>4</td>\n",
       "      <td>LEU-70,GLY-76,ASP-264</td>\n",
       "    </tr>\n",
       "  </tbody>\n",
       "</table>\n",
       "</div>"
      ],
      "text/plain": [
       "   Sl.No Receptor Protein            Ligand Docking Score Docking Result  \\\n",
       "0      1          choline  7hydroxycoumarin         -3266            YES   \n",
       "1      2          choline      7isoorientin         -6142            YES   \n",
       "2      3          choline        Kaempferol         -4396            YES   \n",
       "3      4          choline     isoshaftoside         -6236            YES   \n",
       "4      5          choline           Chrysin         -4194            YES   \n",
       "\n",
       "   No of Interactions        Interaction Sites  \n",
       "0                   5  GLN-244,TYR-288,ASP-264  \n",
       "1                   4                      NaN  \n",
       "2                   5  SER-150,TYR-147,ARG-104  \n",
       "3                   1                      NaN  \n",
       "4                   4    LEU-70,GLY-76,ASP-264  "
      ]
     },
     "execution_count": 36,
     "metadata": {},
     "output_type": "execute_result"
    }
   ],
   "source": [
    "prot_data.head()\n"
   ]
  },
  {
   "cell_type": "code",
   "execution_count": null,
   "metadata": {
    "collapsed": true
   },
   "outputs": [],
   "source": []
  }
 ],
 "metadata": {
  "kernelspec": {
   "display_name": "Python 3",
   "language": "python",
   "name": "python3"
  },
  "language_info": {
   "codemirror_mode": {
    "name": "ipython",
    "version": 3
   },
   "file_extension": ".py",
   "mimetype": "text/x-python",
   "name": "python",
   "nbconvert_exporter": "python",
   "pygments_lexer": "ipython3",
   "version": "3.5.1"
  }
 },
 "nbformat": 4,
 "nbformat_minor": 0
}
