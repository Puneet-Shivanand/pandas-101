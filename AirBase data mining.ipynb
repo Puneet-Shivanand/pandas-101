{
 "cells": [
  {
   "cell_type": "markdown",
   "metadata": {},
   "source": [
    "## Importing and Cleaning the Data"
   ]
  },
  {
   "cell_type": "code",
   "execution_count": 4,
   "metadata": {
    "collapsed": false
   },
   "outputs": [
    {
     "name": "stdout",
     "output_type": "stream",
     "text": [
      "station_european_code\tstation_local_code\tcountry_iso_code\tcountry_name\tstation_name\tstation_start_date\tstation_end_date\ttype_of_station\tstation_ozone_classification\tstation_type_of_area\tstation_subcat_rural_back\tstreet_type\tstation_longitude_deg\tstation_latitude_deg\tstation_altitude\tstation_city\tlau_level1_code\tlau_level2_code\tlau_level2_name\tEMEP_station\n"
     ]
    }
   ],
   "source": [
    "!head -1 data/AirBase_v7_stations.csv"
   ]
  },
  {
   "cell_type": "code",
   "execution_count": null,
   "metadata": {
    "collapsed": true
   },
   "outputs": [],
   "source": []
  }
 ],
 "metadata": {
  "kernelspec": {
   "display_name": "Python 3",
   "language": "python",
   "name": "python3"
  },
  "language_info": {
   "codemirror_mode": {
    "name": "ipython",
    "version": 3
   },
   "file_extension": ".py",
   "mimetype": "text/x-python",
   "name": "python",
   "nbconvert_exporter": "python",
   "pygments_lexer": "ipython3",
   "version": "3.5.1"
  }
 },
 "nbformat": 4,
 "nbformat_minor": 0
}
