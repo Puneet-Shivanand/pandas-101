{
 "cells": [
  {
   "cell_type": "markdown",
   "metadata": {},
   "source": [
    "## Importing and Cleaning the Data"
   ]
  },
  {
   "cell_type": "code",
   "execution_count": 1,
   "metadata": {
    "collapsed": false
   },
   "outputs": [
    {
     "name": "stdout",
     "output_type": "stream",
     "text": [
      "station_european_code\tstation_local_code\tcountry_iso_code\tcountry_name\tstation_name\tstation_start_date\tstation_end_date\ttype_of_station\tstation_ozone_classification\tstation_type_of_area\tstation_subcat_rural_back\tstreet_type\tstation_longitude_deg\tstation_latitude_deg\tstation_altitude\tstation_city\tlau_level1_code\tlau_level2_code\tlau_level2_name\tEMEP_station\r\n"
     ]
    }
   ],
   "source": [
    "!head -1 data/AirBase_v7_stations.csv"
   ]
  },
  {
   "cell_type": "code",
   "execution_count": 2,
   "metadata": {
    "collapsed": false
   },
   "outputs": [
    {
     "data": {
      "text/html": [
       "<iframe src=http://www.eea.europa.eu/data-and-maps/data/airbase-the-european-air-quality-database-8 width=750 height=350></iframe>"
      ],
      "text/plain": [
       "<IPython.core.display.HTML object>"
      ]
     },
     "execution_count": 2,
     "metadata": {},
     "output_type": "execute_result"
    }
   ],
   "source": [
    "from IPython.display import HTML\n",
    "HTML('<iframe src=http://www.eea.europa.eu/data-and-maps/data/airbase-the-european-air-quality-database-8 width=750 height=350></iframe>')"
   ]
  },
  {
   "cell_type": "code",
   "execution_count": 5,
   "metadata": {
    "collapsed": false
   },
   "outputs": [],
   "source": [
    "%matplotlib inline\n",
    "import numpy as np\n",
    "import pandas as pd\n",
    "import matplotlib.pyplot as plt"
   ]
  },
  {
   "cell_type": "code",
   "execution_count": 9,
   "metadata": {
    "collapsed": false
   },
   "outputs": [
    {
     "name": "stdout",
     "output_type": "stream",
     "text": [
      "station_european_code\tstation_local_code\tcountry_iso_code\tcountry_name\tstation_name\tstation_start_date\tstation_end_date\ttype_of_station\tstation_ozone_classification\tstation_type_of_area\tstation_subcat_rural_back\tstreet_type\tstation_longitude_deg\tstation_latitude_deg\tstation_altitude\tstation_city\tlau_level1_code\tlau_level2_code\tlau_level2_name\tEMEP_station\r\n"
     ]
    }
   ],
   "source": [
    "!head -1 data/AirBase_v7_stations.csv\n"
   ]
  },
  {
   "cell_type": "code",
   "execution_count": 29,
   "metadata": {
    "collapsed": false
   },
   "outputs": [],
   "source": [
    "airline_data = pd.read_csv('data/AirBase_v7_stations.csv', sep='\\t',names=None)"
   ]
  },
  {
   "cell_type": "code",
   "execution_count": 28,
   "metadata": {
    "collapsed": false
   },
   "outputs": [
    {
     "data": {
      "text/html": [
       "<div>\n",
       "<table border=\"1\" class=\"dataframe\">\n",
       "  <thead>\n",
       "    <tr style=\"text-align: right;\">\n",
       "      <th></th>\n",
       "      <th>station_european_code</th>\n",
       "      <th>station_local_code</th>\n",
       "      <th>country_iso_code</th>\n",
       "      <th>country_name</th>\n",
       "      <th>station_name</th>\n",
       "      <th>station_start_date</th>\n",
       "      <th>station_end_date</th>\n",
       "      <th>type_of_station</th>\n",
       "      <th>station_ozone_classification</th>\n",
       "      <th>station_type_of_area</th>\n",
       "      <th>station_subcat_rural_back</th>\n",
       "      <th>street_type</th>\n",
       "      <th>station_longitude_deg</th>\n",
       "      <th>station_latitude_deg</th>\n",
       "      <th>station_altitude</th>\n",
       "      <th>station_city</th>\n",
       "      <th>lau_level1_code</th>\n",
       "      <th>lau_level2_code</th>\n",
       "      <th>lau_level2_name</th>\n",
       "      <th>EMEP_station</th>\n",
       "    </tr>\n",
       "  </thead>\n",
       "  <tbody>\n",
       "    <tr>\n",
       "      <th>0</th>\n",
       "      <td>AD0944A</td>\n",
       "      <td>944</td>\n",
       "      <td>AD</td>\n",
       "      <td>ANDORRA</td>\n",
       "      <td>Engolasters</td>\n",
       "      <td>2006-02-10</td>\n",
       "      <td>NaN</td>\n",
       "      <td>Background</td>\n",
       "      <td>NaN</td>\n",
       "      <td>rural</td>\n",
       "      <td>NaN</td>\n",
       "      <td>NaN</td>\n",
       "      <td>1.565014</td>\n",
       "      <td>42.516945</td>\n",
       "      <td>1637</td>\n",
       "      <td>NaN</td>\n",
       "      <td>NaN</td>\n",
       "      <td>NaN</td>\n",
       "      <td>NaN</td>\n",
       "      <td>no</td>\n",
       "    </tr>\n",
       "    <tr>\n",
       "      <th>1</th>\n",
       "      <td>AD0945A</td>\n",
       "      <td>945</td>\n",
       "      <td>AD</td>\n",
       "      <td>ANDORRA</td>\n",
       "      <td>Envalira</td>\n",
       "      <td>2011-05-01</td>\n",
       "      <td>NaN</td>\n",
       "      <td>Background</td>\n",
       "      <td>NaN</td>\n",
       "      <td>rural</td>\n",
       "      <td>NaN</td>\n",
       "      <td>NaN</td>\n",
       "      <td>1.716986</td>\n",
       "      <td>42.534882</td>\n",
       "      <td>2515</td>\n",
       "      <td>NaN</td>\n",
       "      <td>NaN</td>\n",
       "      <td>NaN</td>\n",
       "      <td>NaN</td>\n",
       "      <td>no</td>\n",
       "    </tr>\n",
       "    <tr>\n",
       "      <th>2</th>\n",
       "      <td>AD0942A</td>\n",
       "      <td>942</td>\n",
       "      <td>AD</td>\n",
       "      <td>ANDORRA</td>\n",
       "      <td>Escaldes-Engordany</td>\n",
       "      <td>2004-06-17</td>\n",
       "      <td>NaN</td>\n",
       "      <td>Background</td>\n",
       "      <td>NaN</td>\n",
       "      <td>urban</td>\n",
       "      <td>NaN</td>\n",
       "      <td>NaN</td>\n",
       "      <td>1.539172</td>\n",
       "      <td>42.509724</td>\n",
       "      <td>1080</td>\n",
       "      <td>ANDORRA LA VELLA</td>\n",
       "      <td>NaN</td>\n",
       "      <td>NaN</td>\n",
       "      <td>NaN</td>\n",
       "      <td>no</td>\n",
       "    </tr>\n",
       "    <tr>\n",
       "      <th>3</th>\n",
       "      <td>AL0201A</td>\n",
       "      <td>AL360A01</td>\n",
       "      <td>AL</td>\n",
       "      <td>ALBANIA</td>\n",
       "      <td>Tirana Center</td>\n",
       "      <td>2010-01-06</td>\n",
       "      <td>NaN</td>\n",
       "      <td>Traffic</td>\n",
       "      <td>urban</td>\n",
       "      <td>urban</td>\n",
       "      <td>NaN</td>\n",
       "      <td>Canyon street: L/H &lt; 1.5</td>\n",
       "      <td>19.821772</td>\n",
       "      <td>41.330269</td>\n",
       "      <td>162</td>\n",
       "      <td>TIRANA</td>\n",
       "      <td>NaN</td>\n",
       "      <td>NaN</td>\n",
       "      <td>NaN</td>\n",
       "      <td>no</td>\n",
       "    </tr>\n",
       "    <tr>\n",
       "      <th>4</th>\n",
       "      <td>AL0202A</td>\n",
       "      <td>AL360A02</td>\n",
       "      <td>AL</td>\n",
       "      <td>ALBANIA</td>\n",
       "      <td>Tirana IPH</td>\n",
       "      <td>2010-06-15</td>\n",
       "      <td>NaN</td>\n",
       "      <td>Traffic</td>\n",
       "      <td>suburban</td>\n",
       "      <td>suburban</td>\n",
       "      <td>NaN</td>\n",
       "      <td>Wide street: L/H &gt; 1.5</td>\n",
       "      <td>19.851667</td>\n",
       "      <td>41.345600</td>\n",
       "      <td>207</td>\n",
       "      <td>TIRANA</td>\n",
       "      <td>NaN</td>\n",
       "      <td>NaN</td>\n",
       "      <td>NaN</td>\n",
       "      <td>no</td>\n",
       "    </tr>\n",
       "  </tbody>\n",
       "</table>\n",
       "</div>"
      ],
      "text/plain": [
       "  station_european_code station_local_code country_iso_code country_name  \\\n",
       "0               AD0944A                944               AD      ANDORRA   \n",
       "1               AD0945A                945               AD      ANDORRA   \n",
       "2               AD0942A                942               AD      ANDORRA   \n",
       "3               AL0201A           AL360A01               AL      ALBANIA   \n",
       "4               AL0202A           AL360A02               AL      ALBANIA   \n",
       "\n",
       "         station_name station_start_date station_end_date type_of_station  \\\n",
       "0         Engolasters         2006-02-10              NaN      Background   \n",
       "1            Envalira         2011-05-01              NaN      Background   \n",
       "2  Escaldes-Engordany         2004-06-17              NaN      Background   \n",
       "3       Tirana Center         2010-01-06              NaN         Traffic   \n",
       "4          Tirana IPH         2010-06-15              NaN         Traffic   \n",
       "\n",
       "  station_ozone_classification station_type_of_area station_subcat_rural_back  \\\n",
       "0                          NaN                rural                       NaN   \n",
       "1                          NaN                rural                       NaN   \n",
       "2                          NaN                urban                       NaN   \n",
       "3                        urban                urban                       NaN   \n",
       "4                     suburban             suburban                       NaN   \n",
       "\n",
       "                street_type  station_longitude_deg  station_latitude_deg  \\\n",
       "0                       NaN               1.565014             42.516945   \n",
       "1                       NaN               1.716986             42.534882   \n",
       "2                       NaN               1.539172             42.509724   \n",
       "3  Canyon street: L/H < 1.5              19.821772             41.330269   \n",
       "4    Wide street: L/H > 1.5              19.851667             41.345600   \n",
       "\n",
       "   station_altitude      station_city lau_level1_code lau_level2_code  \\\n",
       "0              1637               NaN             NaN             NaN   \n",
       "1              2515               NaN             NaN             NaN   \n",
       "2              1080  ANDORRA LA VELLA             NaN             NaN   \n",
       "3               162            TIRANA             NaN             NaN   \n",
       "4               207            TIRANA             NaN             NaN   \n",
       "\n",
       "  lau_level2_name EMEP_station  \n",
       "0             NaN           no  \n",
       "1             NaN           no  \n",
       "2             NaN           no  \n",
       "3             NaN           no  \n",
       "4             NaN           no  "
      ]
     },
     "execution_count": 28,
     "metadata": {},
     "output_type": "execute_result"
    }
   ],
   "source": [
    "airline_data.head()"
   ]
  },
  {
   "cell_type": "code",
   "execution_count": 32,
   "metadata": {
    "collapsed": false
   },
   "outputs": [
    {
     "data": {
      "text/html": [
       "<div>\n",
       "<table border=\"1\" class=\"dataframe\">\n",
       "  <thead>\n",
       "    <tr style=\"text-align: right;\">\n",
       "      <th></th>\n",
       "      <th>station_european_code</th>\n",
       "      <th>station_local_code</th>\n",
       "      <th>country_iso_code</th>\n",
       "      <th>country_name</th>\n",
       "      <th>station_name</th>\n",
       "      <th>station_start_date</th>\n",
       "      <th>station_end_date</th>\n",
       "      <th>type_of_station</th>\n",
       "      <th>station_ozone_classification</th>\n",
       "      <th>station_type_of_area</th>\n",
       "      <th>station_subcat_rural_back</th>\n",
       "      <th>street_type</th>\n",
       "      <th>station_longitude_deg</th>\n",
       "      <th>station_altitude</th>\n",
       "      <th>station_city</th>\n",
       "      <th>lau_level1_code</th>\n",
       "      <th>lau_level2_code</th>\n",
       "      <th>lau_level2_name</th>\n",
       "      <th>EMEP_station</th>\n",
       "    </tr>\n",
       "  </thead>\n",
       "  <tbody>\n",
       "    <tr>\n",
       "      <th>0</th>\n",
       "      <td>AD0944A</td>\n",
       "      <td>944</td>\n",
       "      <td>AD</td>\n",
       "      <td>ANDORRA</td>\n",
       "      <td>Engolasters</td>\n",
       "      <td>2006-02-10</td>\n",
       "      <td>NaN</td>\n",
       "      <td>Background</td>\n",
       "      <td>NaN</td>\n",
       "      <td>rural</td>\n",
       "      <td>NaN</td>\n",
       "      <td>NaN</td>\n",
       "      <td>1.565014</td>\n",
       "      <td>1637</td>\n",
       "      <td>NaN</td>\n",
       "      <td>NaN</td>\n",
       "      <td>NaN</td>\n",
       "      <td>NaN</td>\n",
       "      <td>no</td>\n",
       "    </tr>\n",
       "    <tr>\n",
       "      <th>1</th>\n",
       "      <td>AD0945A</td>\n",
       "      <td>945</td>\n",
       "      <td>AD</td>\n",
       "      <td>ANDORRA</td>\n",
       "      <td>Envalira</td>\n",
       "      <td>2011-05-01</td>\n",
       "      <td>NaN</td>\n",
       "      <td>Background</td>\n",
       "      <td>NaN</td>\n",
       "      <td>rural</td>\n",
       "      <td>NaN</td>\n",
       "      <td>NaN</td>\n",
       "      <td>1.716986</td>\n",
       "      <td>2515</td>\n",
       "      <td>NaN</td>\n",
       "      <td>NaN</td>\n",
       "      <td>NaN</td>\n",
       "      <td>NaN</td>\n",
       "      <td>no</td>\n",
       "    </tr>\n",
       "    <tr>\n",
       "      <th>2</th>\n",
       "      <td>AD0942A</td>\n",
       "      <td>942</td>\n",
       "      <td>AD</td>\n",
       "      <td>ANDORRA</td>\n",
       "      <td>Escaldes-Engordany</td>\n",
       "      <td>2004-06-17</td>\n",
       "      <td>NaN</td>\n",
       "      <td>Background</td>\n",
       "      <td>NaN</td>\n",
       "      <td>urban</td>\n",
       "      <td>NaN</td>\n",
       "      <td>NaN</td>\n",
       "      <td>1.539172</td>\n",
       "      <td>1080</td>\n",
       "      <td>ANDORRA LA VELLA</td>\n",
       "      <td>NaN</td>\n",
       "      <td>NaN</td>\n",
       "      <td>NaN</td>\n",
       "      <td>no</td>\n",
       "    </tr>\n",
       "    <tr>\n",
       "      <th>3</th>\n",
       "      <td>AL0201A</td>\n",
       "      <td>AL360A01</td>\n",
       "      <td>AL</td>\n",
       "      <td>ALBANIA</td>\n",
       "      <td>Tirana Center</td>\n",
       "      <td>2010-01-06</td>\n",
       "      <td>NaN</td>\n",
       "      <td>Traffic</td>\n",
       "      <td>urban</td>\n",
       "      <td>urban</td>\n",
       "      <td>NaN</td>\n",
       "      <td>Canyon street: L/H &lt; 1.5</td>\n",
       "      <td>19.821772</td>\n",
       "      <td>162</td>\n",
       "      <td>TIRANA</td>\n",
       "      <td>NaN</td>\n",
       "      <td>NaN</td>\n",
       "      <td>NaN</td>\n",
       "      <td>no</td>\n",
       "    </tr>\n",
       "    <tr>\n",
       "      <th>4</th>\n",
       "      <td>AL0202A</td>\n",
       "      <td>AL360A02</td>\n",
       "      <td>AL</td>\n",
       "      <td>ALBANIA</td>\n",
       "      <td>Tirana IPH</td>\n",
       "      <td>2010-06-15</td>\n",
       "      <td>NaN</td>\n",
       "      <td>Traffic</td>\n",
       "      <td>suburban</td>\n",
       "      <td>suburban</td>\n",
       "      <td>NaN</td>\n",
       "      <td>Wide street: L/H &gt; 1.5</td>\n",
       "      <td>19.851667</td>\n",
       "      <td>207</td>\n",
       "      <td>TIRANA</td>\n",
       "      <td>NaN</td>\n",
       "      <td>NaN</td>\n",
       "      <td>NaN</td>\n",
       "      <td>no</td>\n",
       "    </tr>\n",
       "  </tbody>\n",
       "</table>\n",
       "</div>"
      ],
      "text/plain": [
       "  station_european_code station_local_code country_iso_code country_name  \\\n",
       "0               AD0944A                944               AD      ANDORRA   \n",
       "1               AD0945A                945               AD      ANDORRA   \n",
       "2               AD0942A                942               AD      ANDORRA   \n",
       "3               AL0201A           AL360A01               AL      ALBANIA   \n",
       "4               AL0202A           AL360A02               AL      ALBANIA   \n",
       "\n",
       "         station_name station_start_date station_end_date type_of_station  \\\n",
       "0         Engolasters         2006-02-10              NaN      Background   \n",
       "1            Envalira         2011-05-01              NaN      Background   \n",
       "2  Escaldes-Engordany         2004-06-17              NaN      Background   \n",
       "3       Tirana Center         2010-01-06              NaN         Traffic   \n",
       "4          Tirana IPH         2010-06-15              NaN         Traffic   \n",
       "\n",
       "  station_ozone_classification station_type_of_area station_subcat_rural_back  \\\n",
       "0                          NaN                rural                       NaN   \n",
       "1                          NaN                rural                       NaN   \n",
       "2                          NaN                urban                       NaN   \n",
       "3                        urban                urban                       NaN   \n",
       "4                     suburban             suburban                       NaN   \n",
       "\n",
       "                street_type  station_longitude_deg  station_altitude  \\\n",
       "0                       NaN               1.565014              1637   \n",
       "1                       NaN               1.716986              2515   \n",
       "2                       NaN               1.539172              1080   \n",
       "3  Canyon street: L/H < 1.5              19.821772               162   \n",
       "4    Wide street: L/H > 1.5              19.851667               207   \n",
       "\n",
       "       station_city lau_level1_code lau_level2_code lau_level2_name  \\\n",
       "0               NaN             NaN             NaN             NaN   \n",
       "1               NaN             NaN             NaN             NaN   \n",
       "2  ANDORRA LA VELLA             NaN             NaN             NaN   \n",
       "3            TIRANA             NaN             NaN             NaN   \n",
       "4            TIRANA             NaN             NaN             NaN   \n",
       "\n",
       "  EMEP_station  \n",
       "0           no  \n",
       "1           no  \n",
       "2           no  \n",
       "3           no  \n",
       "4           no  "
      ]
     },
     "execution_count": 32,
     "metadata": {},
     "output_type": "execute_result"
    }
   ],
   "source": [
    "new_airlinedata = airline_data.drop('station_latitude_deg',axis=1)\n",
    "new_airlinedata.head()"
   ]
  },
  {
   "cell_type": "markdown",
   "metadata": {},
   "source": [
    "### Stack and Unstack data"
   ]
  },
  {
   "cell_type": "code",
   "execution_count": 34,
   "metadata": {
    "collapsed": false
   },
   "outputs": [
    {
     "data": {
      "text/html": [
       "<div>\n",
       "<table border=\"1\" class=\"dataframe\">\n",
       "  <thead>\n",
       "    <tr style=\"text-align: right;\">\n",
       "      <th></th>\n",
       "      <th>A</th>\n",
       "      <th>B</th>\n",
       "      <th>C</th>\n",
       "    </tr>\n",
       "  </thead>\n",
       "  <tbody>\n",
       "    <tr>\n",
       "      <th>0</th>\n",
       "      <td>one</td>\n",
       "      <td>a</td>\n",
       "      <td>0</td>\n",
       "    </tr>\n",
       "    <tr>\n",
       "      <th>1</th>\n",
       "      <td>one</td>\n",
       "      <td>a</td>\n",
       "      <td>1</td>\n",
       "    </tr>\n",
       "    <tr>\n",
       "      <th>2</th>\n",
       "      <td>two</td>\n",
       "      <td>b</td>\n",
       "      <td>2</td>\n",
       "    </tr>\n",
       "    <tr>\n",
       "      <th>3</th>\n",
       "      <td>two</td>\n",
       "      <td>b</td>\n",
       "      <td>3</td>\n",
       "    </tr>\n",
       "  </tbody>\n",
       "</table>\n",
       "</div>"
      ],
      "text/plain": [
       "     A  B  C\n",
       "0  one  a  0\n",
       "1  one  a  1\n",
       "2  two  b  2\n",
       "3  two  b  3"
      ]
     },
     "execution_count": 34,
     "metadata": {},
     "output_type": "execute_result"
    }
   ],
   "source": [
    "df=pd.DataFrame({'A':['one', 'one','two', 'two'],'B':['a','a','b','b'],'C':[i for i in range(4)]})\n",
    "df"
   ]
  },
  {
   "cell_type": "code",
   "execution_count": 38,
   "metadata": {
    "collapsed": false
   },
   "outputs": [
    {
     "ename": "KeyError",
     "evalue": "'A'",
     "output_type": "error",
     "traceback": [
      "\u001b[1;31m---------------------------------------------------------------------------\u001b[0m",
      "\u001b[1;31mKeyError\u001b[0m                                  Traceback (most recent call last)",
      "\u001b[1;32m/usr/local/lib/python3.4/dist-packages/pandas/indexes/base.py\u001b[0m in \u001b[0;36mget_loc\u001b[1;34m(self, key, method, tolerance)\u001b[0m\n\u001b[0;32m   1944\u001b[0m             \u001b[1;32mtry\u001b[0m\u001b[1;33m:\u001b[0m\u001b[1;33m\u001b[0m\u001b[0m\n\u001b[1;32m-> 1945\u001b[1;33m                 \u001b[1;32mreturn\u001b[0m \u001b[0mself\u001b[0m\u001b[1;33m.\u001b[0m\u001b[0m_engine\u001b[0m\u001b[1;33m.\u001b[0m\u001b[0mget_loc\u001b[0m\u001b[1;33m(\u001b[0m\u001b[0mkey\u001b[0m\u001b[1;33m)\u001b[0m\u001b[1;33m\u001b[0m\u001b[0m\n\u001b[0m\u001b[0;32m   1946\u001b[0m             \u001b[1;32mexcept\u001b[0m \u001b[0mKeyError\u001b[0m\u001b[1;33m:\u001b[0m\u001b[1;33m\u001b[0m\u001b[0m\n",
      "\u001b[1;32mpandas/index.pyx\u001b[0m in \u001b[0;36mpandas.index.IndexEngine.get_loc (pandas/index.c:4154)\u001b[1;34m()\u001b[0m\n",
      "\u001b[1;32mpandas/index.pyx\u001b[0m in \u001b[0;36mpandas.index.IndexEngine.get_loc (pandas/index.c:4018)\u001b[1;34m()\u001b[0m\n",
      "\u001b[1;32mpandas/hashtable.pyx\u001b[0m in \u001b[0;36mpandas.hashtable.PyObjectHashTable.get_item (pandas/hashtable.c:12368)\u001b[1;34m()\u001b[0m\n",
      "\u001b[1;32mpandas/hashtable.pyx\u001b[0m in \u001b[0;36mpandas.hashtable.PyObjectHashTable.get_item (pandas/hashtable.c:12322)\u001b[1;34m()\u001b[0m\n",
      "\u001b[1;31mKeyError\u001b[0m: 'A'",
      "\nDuring handling of the above exception, another exception occurred:\n",
      "\u001b[1;31mKeyError\u001b[0m                                  Traceback (most recent call last)",
      "\u001b[1;32m<ipython-input-38-1b4674533a65>\u001b[0m in \u001b[0;36m<module>\u001b[1;34m()\u001b[0m\n\u001b[1;32m----> 1\u001b[1;33m \u001b[0mdf\u001b[0m \u001b[1;33m=\u001b[0m \u001b[0mdf\u001b[0m\u001b[1;33m.\u001b[0m\u001b[0mset_index\u001b[0m\u001b[1;33m(\u001b[0m\u001b[1;33m[\u001b[0m\u001b[1;34m'A'\u001b[0m\u001b[1;33m]\u001b[0m\u001b[1;33m)\u001b[0m\u001b[1;33m\u001b[0m\u001b[0m\n\u001b[0m\u001b[0;32m      2\u001b[0m \u001b[0mdf\u001b[0m\u001b[1;33m\u001b[0m\u001b[0m\n",
      "\u001b[1;32m/usr/local/lib/python3.4/dist-packages/pandas/core/frame.py\u001b[0m in \u001b[0;36mset_index\u001b[1;34m(self, keys, drop, append, inplace, verify_integrity)\u001b[0m\n\u001b[0;32m   2835\u001b[0m                 \u001b[0mnames\u001b[0m\u001b[1;33m.\u001b[0m\u001b[0mappend\u001b[0m\u001b[1;33m(\u001b[0m\u001b[1;32mNone\u001b[0m\u001b[1;33m)\u001b[0m\u001b[1;33m\u001b[0m\u001b[0m\n\u001b[0;32m   2836\u001b[0m             \u001b[1;32melse\u001b[0m\u001b[1;33m:\u001b[0m\u001b[1;33m\u001b[0m\u001b[0m\n\u001b[1;32m-> 2837\u001b[1;33m                 \u001b[0mlevel\u001b[0m \u001b[1;33m=\u001b[0m \u001b[0mframe\u001b[0m\u001b[1;33m[\u001b[0m\u001b[0mcol\u001b[0m\u001b[1;33m]\u001b[0m\u001b[1;33m.\u001b[0m\u001b[0m_values\u001b[0m\u001b[1;33m\u001b[0m\u001b[0m\n\u001b[0m\u001b[0;32m   2838\u001b[0m                 \u001b[0mnames\u001b[0m\u001b[1;33m.\u001b[0m\u001b[0mappend\u001b[0m\u001b[1;33m(\u001b[0m\u001b[0mcol\u001b[0m\u001b[1;33m)\u001b[0m\u001b[1;33m\u001b[0m\u001b[0m\n\u001b[0;32m   2839\u001b[0m                 \u001b[1;32mif\u001b[0m \u001b[0mdrop\u001b[0m\u001b[1;33m:\u001b[0m\u001b[1;33m\u001b[0m\u001b[0m\n",
      "\u001b[1;32m/usr/local/lib/python3.4/dist-packages/pandas/core/frame.py\u001b[0m in \u001b[0;36m__getitem__\u001b[1;34m(self, key)\u001b[0m\n\u001b[0;32m   1995\u001b[0m             \u001b[1;32mreturn\u001b[0m \u001b[0mself\u001b[0m\u001b[1;33m.\u001b[0m\u001b[0m_getitem_multilevel\u001b[0m\u001b[1;33m(\u001b[0m\u001b[0mkey\u001b[0m\u001b[1;33m)\u001b[0m\u001b[1;33m\u001b[0m\u001b[0m\n\u001b[0;32m   1996\u001b[0m         \u001b[1;32melse\u001b[0m\u001b[1;33m:\u001b[0m\u001b[1;33m\u001b[0m\u001b[0m\n\u001b[1;32m-> 1997\u001b[1;33m             \u001b[1;32mreturn\u001b[0m \u001b[0mself\u001b[0m\u001b[1;33m.\u001b[0m\u001b[0m_getitem_column\u001b[0m\u001b[1;33m(\u001b[0m\u001b[0mkey\u001b[0m\u001b[1;33m)\u001b[0m\u001b[1;33m\u001b[0m\u001b[0m\n\u001b[0m\u001b[0;32m   1998\u001b[0m \u001b[1;33m\u001b[0m\u001b[0m\n\u001b[0;32m   1999\u001b[0m     \u001b[1;32mdef\u001b[0m \u001b[0m_getitem_column\u001b[0m\u001b[1;33m(\u001b[0m\u001b[0mself\u001b[0m\u001b[1;33m,\u001b[0m \u001b[0mkey\u001b[0m\u001b[1;33m)\u001b[0m\u001b[1;33m:\u001b[0m\u001b[1;33m\u001b[0m\u001b[0m\n",
      "\u001b[1;32m/usr/local/lib/python3.4/dist-packages/pandas/core/frame.py\u001b[0m in \u001b[0;36m_getitem_column\u001b[1;34m(self, key)\u001b[0m\n\u001b[0;32m   2002\u001b[0m         \u001b[1;31m# get column\u001b[0m\u001b[1;33m\u001b[0m\u001b[1;33m\u001b[0m\u001b[0m\n\u001b[0;32m   2003\u001b[0m         \u001b[1;32mif\u001b[0m \u001b[0mself\u001b[0m\u001b[1;33m.\u001b[0m\u001b[0mcolumns\u001b[0m\u001b[1;33m.\u001b[0m\u001b[0mis_unique\u001b[0m\u001b[1;33m:\u001b[0m\u001b[1;33m\u001b[0m\u001b[0m\n\u001b[1;32m-> 2004\u001b[1;33m             \u001b[1;32mreturn\u001b[0m \u001b[0mself\u001b[0m\u001b[1;33m.\u001b[0m\u001b[0m_get_item_cache\u001b[0m\u001b[1;33m(\u001b[0m\u001b[0mkey\u001b[0m\u001b[1;33m)\u001b[0m\u001b[1;33m\u001b[0m\u001b[0m\n\u001b[0m\u001b[0;32m   2005\u001b[0m \u001b[1;33m\u001b[0m\u001b[0m\n\u001b[0;32m   2006\u001b[0m         \u001b[1;31m# duplicate columns & possible reduce dimensionality\u001b[0m\u001b[1;33m\u001b[0m\u001b[1;33m\u001b[0m\u001b[0m\n",
      "\u001b[1;32m/usr/local/lib/python3.4/dist-packages/pandas/core/generic.py\u001b[0m in \u001b[0;36m_get_item_cache\u001b[1;34m(self, item)\u001b[0m\n\u001b[0;32m   1348\u001b[0m         \u001b[0mres\u001b[0m \u001b[1;33m=\u001b[0m \u001b[0mcache\u001b[0m\u001b[1;33m.\u001b[0m\u001b[0mget\u001b[0m\u001b[1;33m(\u001b[0m\u001b[0mitem\u001b[0m\u001b[1;33m)\u001b[0m\u001b[1;33m\u001b[0m\u001b[0m\n\u001b[0;32m   1349\u001b[0m         \u001b[1;32mif\u001b[0m \u001b[0mres\u001b[0m \u001b[1;32mis\u001b[0m \u001b[1;32mNone\u001b[0m\u001b[1;33m:\u001b[0m\u001b[1;33m\u001b[0m\u001b[0m\n\u001b[1;32m-> 1350\u001b[1;33m             \u001b[0mvalues\u001b[0m \u001b[1;33m=\u001b[0m \u001b[0mself\u001b[0m\u001b[1;33m.\u001b[0m\u001b[0m_data\u001b[0m\u001b[1;33m.\u001b[0m\u001b[0mget\u001b[0m\u001b[1;33m(\u001b[0m\u001b[0mitem\u001b[0m\u001b[1;33m)\u001b[0m\u001b[1;33m\u001b[0m\u001b[0m\n\u001b[0m\u001b[0;32m   1351\u001b[0m             \u001b[0mres\u001b[0m \u001b[1;33m=\u001b[0m \u001b[0mself\u001b[0m\u001b[1;33m.\u001b[0m\u001b[0m_box_item_values\u001b[0m\u001b[1;33m(\u001b[0m\u001b[0mitem\u001b[0m\u001b[1;33m,\u001b[0m \u001b[0mvalues\u001b[0m\u001b[1;33m)\u001b[0m\u001b[1;33m\u001b[0m\u001b[0m\n\u001b[0;32m   1352\u001b[0m             \u001b[0mcache\u001b[0m\u001b[1;33m[\u001b[0m\u001b[0mitem\u001b[0m\u001b[1;33m]\u001b[0m \u001b[1;33m=\u001b[0m \u001b[0mres\u001b[0m\u001b[1;33m\u001b[0m\u001b[0m\n",
      "\u001b[1;32m/usr/local/lib/python3.4/dist-packages/pandas/core/internals.py\u001b[0m in \u001b[0;36mget\u001b[1;34m(self, item, fastpath)\u001b[0m\n\u001b[0;32m   3288\u001b[0m \u001b[1;33m\u001b[0m\u001b[0m\n\u001b[0;32m   3289\u001b[0m             \u001b[1;32mif\u001b[0m \u001b[1;32mnot\u001b[0m \u001b[0misnull\u001b[0m\u001b[1;33m(\u001b[0m\u001b[0mitem\u001b[0m\u001b[1;33m)\u001b[0m\u001b[1;33m:\u001b[0m\u001b[1;33m\u001b[0m\u001b[0m\n\u001b[1;32m-> 3290\u001b[1;33m                 \u001b[0mloc\u001b[0m \u001b[1;33m=\u001b[0m \u001b[0mself\u001b[0m\u001b[1;33m.\u001b[0m\u001b[0mitems\u001b[0m\u001b[1;33m.\u001b[0m\u001b[0mget_loc\u001b[0m\u001b[1;33m(\u001b[0m\u001b[0mitem\u001b[0m\u001b[1;33m)\u001b[0m\u001b[1;33m\u001b[0m\u001b[0m\n\u001b[0m\u001b[0;32m   3291\u001b[0m             \u001b[1;32melse\u001b[0m\u001b[1;33m:\u001b[0m\u001b[1;33m\u001b[0m\u001b[0m\n\u001b[0;32m   3292\u001b[0m                 \u001b[0mindexer\u001b[0m \u001b[1;33m=\u001b[0m \u001b[0mnp\u001b[0m\u001b[1;33m.\u001b[0m\u001b[0marange\u001b[0m\u001b[1;33m(\u001b[0m\u001b[0mlen\u001b[0m\u001b[1;33m(\u001b[0m\u001b[0mself\u001b[0m\u001b[1;33m.\u001b[0m\u001b[0mitems\u001b[0m\u001b[1;33m)\u001b[0m\u001b[1;33m)\u001b[0m\u001b[1;33m[\u001b[0m\u001b[0misnull\u001b[0m\u001b[1;33m(\u001b[0m\u001b[0mself\u001b[0m\u001b[1;33m.\u001b[0m\u001b[0mitems\u001b[0m\u001b[1;33m)\u001b[0m\u001b[1;33m]\u001b[0m\u001b[1;33m\u001b[0m\u001b[0m\n",
      "\u001b[1;32m/usr/local/lib/python3.4/dist-packages/pandas/indexes/base.py\u001b[0m in \u001b[0;36mget_loc\u001b[1;34m(self, key, method, tolerance)\u001b[0m\n\u001b[0;32m   1945\u001b[0m                 \u001b[1;32mreturn\u001b[0m \u001b[0mself\u001b[0m\u001b[1;33m.\u001b[0m\u001b[0m_engine\u001b[0m\u001b[1;33m.\u001b[0m\u001b[0mget_loc\u001b[0m\u001b[1;33m(\u001b[0m\u001b[0mkey\u001b[0m\u001b[1;33m)\u001b[0m\u001b[1;33m\u001b[0m\u001b[0m\n\u001b[0;32m   1946\u001b[0m             \u001b[1;32mexcept\u001b[0m \u001b[0mKeyError\u001b[0m\u001b[1;33m:\u001b[0m\u001b[1;33m\u001b[0m\u001b[0m\n\u001b[1;32m-> 1947\u001b[1;33m                 \u001b[1;32mreturn\u001b[0m \u001b[0mself\u001b[0m\u001b[1;33m.\u001b[0m\u001b[0m_engine\u001b[0m\u001b[1;33m.\u001b[0m\u001b[0mget_loc\u001b[0m\u001b[1;33m(\u001b[0m\u001b[0mself\u001b[0m\u001b[1;33m.\u001b[0m\u001b[0m_maybe_cast_indexer\u001b[0m\u001b[1;33m(\u001b[0m\u001b[0mkey\u001b[0m\u001b[1;33m)\u001b[0m\u001b[1;33m)\u001b[0m\u001b[1;33m\u001b[0m\u001b[0m\n\u001b[0m\u001b[0;32m   1948\u001b[0m \u001b[1;33m\u001b[0m\u001b[0m\n\u001b[0;32m   1949\u001b[0m         \u001b[0mindexer\u001b[0m \u001b[1;33m=\u001b[0m \u001b[0mself\u001b[0m\u001b[1;33m.\u001b[0m\u001b[0mget_indexer\u001b[0m\u001b[1;33m(\u001b[0m\u001b[1;33m[\u001b[0m\u001b[0mkey\u001b[0m\u001b[1;33m]\u001b[0m\u001b[1;33m,\u001b[0m \u001b[0mmethod\u001b[0m\u001b[1;33m=\u001b[0m\u001b[0mmethod\u001b[0m\u001b[1;33m,\u001b[0m \u001b[0mtolerance\u001b[0m\u001b[1;33m=\u001b[0m\u001b[0mtolerance\u001b[0m\u001b[1;33m)\u001b[0m\u001b[1;33m\u001b[0m\u001b[0m\n",
      "\u001b[1;32mpandas/index.pyx\u001b[0m in \u001b[0;36mpandas.index.IndexEngine.get_loc (pandas/index.c:4154)\u001b[1;34m()\u001b[0m\n",
      "\u001b[1;32mpandas/index.pyx\u001b[0m in \u001b[0;36mpandas.index.IndexEngine.get_loc (pandas/index.c:4018)\u001b[1;34m()\u001b[0m\n",
      "\u001b[1;32mpandas/hashtable.pyx\u001b[0m in \u001b[0;36mpandas.hashtable.PyObjectHashTable.get_item (pandas/hashtable.c:12368)\u001b[1;34m()\u001b[0m\n",
      "\u001b[1;32mpandas/hashtable.pyx\u001b[0m in \u001b[0;36mpandas.hashtable.PyObjectHashTable.get_item (pandas/hashtable.c:12322)\u001b[1;34m()\u001b[0m\n",
      "\u001b[1;31mKeyError\u001b[0m: 'A'"
     ]
    }
   ],
   "source": [
    "df = df.set_index(['B',''])\n",
    "df"
   ]
  },
  {
   "cell_type": "code",
   "execution_count": null,
   "metadata": {
    "collapsed": true
   },
   "outputs": [],
   "source": []
  }
 ],
 "metadata": {
  "kernelspec": {
   "display_name": "Python 3",
   "language": "python",
   "name": "python3"
  },
  "language_info": {
   "codemirror_mode": {
    "name": "ipython",
    "version": 3
   },
   "file_extension": ".py",
   "mimetype": "text/x-python",
   "name": "python",
   "nbconvert_exporter": "python",
   "pygments_lexer": "ipython3",
   "version": "3.4.3+"
  }
 },
 "nbformat": 4,
 "nbformat_minor": 0
}
