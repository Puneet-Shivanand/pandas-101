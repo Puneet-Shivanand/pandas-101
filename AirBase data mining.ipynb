{
 "cells": [
  {
   "cell_type": "markdown",
   "metadata": {},
   "source": [
    "## Importing and Cleaning the Data"
   ]
  },
  {
   "cell_type": "code",
   "execution_count": 1,
   "metadata": {
    "collapsed": false
   },
   "outputs": [
    {
     "name": "stdout",
     "output_type": "stream",
     "text": [
      "station_european_code\tstation_local_code\tcountry_iso_code\tcountry_name\tstation_name\tstation_start_date\tstation_end_date\ttype_of_station\tstation_ozone_classification\tstation_type_of_area\tstation_subcat_rural_back\tstreet_type\tstation_longitude_deg\tstation_latitude_deg\tstation_altitude\tstation_city\tlau_level1_code\tlau_level2_code\tlau_level2_name\tEMEP_station\r\n"
     ]
    }
   ],
   "source": [
    "!head -1 data/AirBase_v7_stations.csv"
   ]
  },
  {
   "cell_type": "code",
   "execution_count": 2,
   "metadata": {
    "collapsed": false
   },
   "outputs": [
    {
     "data": {
      "text/html": [
       "<iframe src=http://www.eea.europa.eu/data-and-maps/data/airbase-the-european-air-quality-database-8 width=750 height=350></iframe>"
      ],
      "text/plain": [
       "<IPython.core.display.HTML object>"
      ]
     },
     "execution_count": 2,
     "metadata": {},
     "output_type": "execute_result"
    }
   ],
   "source": [
    "from IPython.display import HTML\n",
    "HTML('<iframe src=http://www.eea.europa.eu/data-and-maps/data/airbase-the-european-air-quality-database-8 width=750 height=350></iframe>')"
   ]
  },
  {
   "cell_type": "code",
   "execution_count": 2,
   "metadata": {
    "collapsed": false
   },
   "outputs": [],
   "source": [
    "%matplotlib inline\n",
    "import numpy as np\n",
    "import pandas as pd\n",
    "import matplotlib.pyplot as plt"
   ]
  },
  {
   "cell_type": "code",
   "execution_count": 9,
   "metadata": {
    "collapsed": false
   },
   "outputs": [
    {
     "name": "stdout",
     "output_type": "stream",
     "text": [
      "station_european_code\tstation_local_code\tcountry_iso_code\tcountry_name\tstation_name\tstation_start_date\tstation_end_date\ttype_of_station\tstation_ozone_classification\tstation_type_of_area\tstation_subcat_rural_back\tstreet_type\tstation_longitude_deg\tstation_latitude_deg\tstation_altitude\tstation_city\tlau_level1_code\tlau_level2_code\tlau_level2_name\tEMEP_station\r\n"
     ]
    }
   ],
   "source": [
    "!head -1 data/AirBase_v7_stations.csv\n"
   ]
  },
  {
   "cell_type": "code",
   "execution_count": 29,
   "metadata": {
    "collapsed": false
   },
   "outputs": [],
   "source": [
    "airline_data = pd.read_csv('data/AirBase_v7_stations.csv', sep='\\t',names=None)"
   ]
  },
  {
   "cell_type": "code",
   "execution_count": 28,
   "metadata": {
    "collapsed": false
   },
   "outputs": [
    {
     "data": {
      "text/html": [
       "<div>\n",
       "<table border=\"1\" class=\"dataframe\">\n",
       "  <thead>\n",
       "    <tr style=\"text-align: right;\">\n",
       "      <th></th>\n",
       "      <th>station_european_code</th>\n",
       "      <th>station_local_code</th>\n",
       "      <th>country_iso_code</th>\n",
       "      <th>country_name</th>\n",
       "      <th>station_name</th>\n",
       "      <th>station_start_date</th>\n",
       "      <th>station_end_date</th>\n",
       "      <th>type_of_station</th>\n",
       "      <th>station_ozone_classification</th>\n",
       "      <th>station_type_of_area</th>\n",
       "      <th>station_subcat_rural_back</th>\n",
       "      <th>street_type</th>\n",
       "      <th>station_longitude_deg</th>\n",
       "      <th>station_latitude_deg</th>\n",
       "      <th>station_altitude</th>\n",
       "      <th>station_city</th>\n",
       "      <th>lau_level1_code</th>\n",
       "      <th>lau_level2_code</th>\n",
       "      <th>lau_level2_name</th>\n",
       "      <th>EMEP_station</th>\n",
       "    </tr>\n",
       "  </thead>\n",
       "  <tbody>\n",
       "    <tr>\n",
       "      <th>0</th>\n",
       "      <td>AD0944A</td>\n",
       "      <td>944</td>\n",
       "      <td>AD</td>\n",
       "      <td>ANDORRA</td>\n",
       "      <td>Engolasters</td>\n",
       "      <td>2006-02-10</td>\n",
       "      <td>NaN</td>\n",
       "      <td>Background</td>\n",
       "      <td>NaN</td>\n",
       "      <td>rural</td>\n",
       "      <td>NaN</td>\n",
       "      <td>NaN</td>\n",
       "      <td>1.565014</td>\n",
       "      <td>42.516945</td>\n",
       "      <td>1637</td>\n",
       "      <td>NaN</td>\n",
       "      <td>NaN</td>\n",
       "      <td>NaN</td>\n",
       "      <td>NaN</td>\n",
       "      <td>no</td>\n",
       "    </tr>\n",
       "    <tr>\n",
       "      <th>1</th>\n",
       "      <td>AD0945A</td>\n",
       "      <td>945</td>\n",
       "      <td>AD</td>\n",
       "      <td>ANDORRA</td>\n",
       "      <td>Envalira</td>\n",
       "      <td>2011-05-01</td>\n",
       "      <td>NaN</td>\n",
       "      <td>Background</td>\n",
       "      <td>NaN</td>\n",
       "      <td>rural</td>\n",
       "      <td>NaN</td>\n",
       "      <td>NaN</td>\n",
       "      <td>1.716986</td>\n",
       "      <td>42.534882</td>\n",
       "      <td>2515</td>\n",
       "      <td>NaN</td>\n",
       "      <td>NaN</td>\n",
       "      <td>NaN</td>\n",
       "      <td>NaN</td>\n",
       "      <td>no</td>\n",
       "    </tr>\n",
       "    <tr>\n",
       "      <th>2</th>\n",
       "      <td>AD0942A</td>\n",
       "      <td>942</td>\n",
       "      <td>AD</td>\n",
       "      <td>ANDORRA</td>\n",
       "      <td>Escaldes-Engordany</td>\n",
       "      <td>2004-06-17</td>\n",
       "      <td>NaN</td>\n",
       "      <td>Background</td>\n",
       "      <td>NaN</td>\n",
       "      <td>urban</td>\n",
       "      <td>NaN</td>\n",
       "      <td>NaN</td>\n",
       "      <td>1.539172</td>\n",
       "      <td>42.509724</td>\n",
       "      <td>1080</td>\n",
       "      <td>ANDORRA LA VELLA</td>\n",
       "      <td>NaN</td>\n",
       "      <td>NaN</td>\n",
       "      <td>NaN</td>\n",
       "      <td>no</td>\n",
       "    </tr>\n",
       "    <tr>\n",
       "      <th>3</th>\n",
       "      <td>AL0201A</td>\n",
       "      <td>AL360A01</td>\n",
       "      <td>AL</td>\n",
       "      <td>ALBANIA</td>\n",
       "      <td>Tirana Center</td>\n",
       "      <td>2010-01-06</td>\n",
       "      <td>NaN</td>\n",
       "      <td>Traffic</td>\n",
       "      <td>urban</td>\n",
       "      <td>urban</td>\n",
       "      <td>NaN</td>\n",
       "      <td>Canyon street: L/H &lt; 1.5</td>\n",
       "      <td>19.821772</td>\n",
       "      <td>41.330269</td>\n",
       "      <td>162</td>\n",
       "      <td>TIRANA</td>\n",
       "      <td>NaN</td>\n",
       "      <td>NaN</td>\n",
       "      <td>NaN</td>\n",
       "      <td>no</td>\n",
       "    </tr>\n",
       "    <tr>\n",
       "      <th>4</th>\n",
       "      <td>AL0202A</td>\n",
       "      <td>AL360A02</td>\n",
       "      <td>AL</td>\n",
       "      <td>ALBANIA</td>\n",
       "      <td>Tirana IPH</td>\n",
       "      <td>2010-06-15</td>\n",
       "      <td>NaN</td>\n",
       "      <td>Traffic</td>\n",
       "      <td>suburban</td>\n",
       "      <td>suburban</td>\n",
       "      <td>NaN</td>\n",
       "      <td>Wide street: L/H &gt; 1.5</td>\n",
       "      <td>19.851667</td>\n",
       "      <td>41.345600</td>\n",
       "      <td>207</td>\n",
       "      <td>TIRANA</td>\n",
       "      <td>NaN</td>\n",
       "      <td>NaN</td>\n",
       "      <td>NaN</td>\n",
       "      <td>no</td>\n",
       "    </tr>\n",
       "  </tbody>\n",
       "</table>\n",
       "</div>"
      ],
      "text/plain": [
       "  station_european_code station_local_code country_iso_code country_name  \\\n",
       "0               AD0944A                944               AD      ANDORRA   \n",
       "1               AD0945A                945               AD      ANDORRA   \n",
       "2               AD0942A                942               AD      ANDORRA   \n",
       "3               AL0201A           AL360A01               AL      ALBANIA   \n",
       "4               AL0202A           AL360A02               AL      ALBANIA   \n",
       "\n",
       "         station_name station_start_date station_end_date type_of_station  \\\n",
       "0         Engolasters         2006-02-10              NaN      Background   \n",
       "1            Envalira         2011-05-01              NaN      Background   \n",
       "2  Escaldes-Engordany         2004-06-17              NaN      Background   \n",
       "3       Tirana Center         2010-01-06              NaN         Traffic   \n",
       "4          Tirana IPH         2010-06-15              NaN         Traffic   \n",
       "\n",
       "  station_ozone_classification station_type_of_area station_subcat_rural_back  \\\n",
       "0                          NaN                rural                       NaN   \n",
       "1                          NaN                rural                       NaN   \n",
       "2                          NaN                urban                       NaN   \n",
       "3                        urban                urban                       NaN   \n",
       "4                     suburban             suburban                       NaN   \n",
       "\n",
       "                street_type  station_longitude_deg  station_latitude_deg  \\\n",
       "0                       NaN               1.565014             42.516945   \n",
       "1                       NaN               1.716986             42.534882   \n",
       "2                       NaN               1.539172             42.509724   \n",
       "3  Canyon street: L/H < 1.5              19.821772             41.330269   \n",
       "4    Wide street: L/H > 1.5              19.851667             41.345600   \n",
       "\n",
       "   station_altitude      station_city lau_level1_code lau_level2_code  \\\n",
       "0              1637               NaN             NaN             NaN   \n",
       "1              2515               NaN             NaN             NaN   \n",
       "2              1080  ANDORRA LA VELLA             NaN             NaN   \n",
       "3               162            TIRANA             NaN             NaN   \n",
       "4               207            TIRANA             NaN             NaN   \n",
       "\n",
       "  lau_level2_name EMEP_station  \n",
       "0             NaN           no  \n",
       "1             NaN           no  \n",
       "2             NaN           no  \n",
       "3             NaN           no  \n",
       "4             NaN           no  "
      ]
     },
     "execution_count": 28,
     "metadata": {},
     "output_type": "execute_result"
    }
   ],
   "source": [
    "airline_data.head()"
   ]
  },
  {
   "cell_type": "code",
   "execution_count": 32,
   "metadata": {
    "collapsed": false
   },
   "outputs": [
    {
     "data": {
      "text/html": [
       "<div>\n",
       "<table border=\"1\" class=\"dataframe\">\n",
       "  <thead>\n",
       "    <tr style=\"text-align: right;\">\n",
       "      <th></th>\n",
       "      <th>station_european_code</th>\n",
       "      <th>station_local_code</th>\n",
       "      <th>country_iso_code</th>\n",
       "      <th>country_name</th>\n",
       "      <th>station_name</th>\n",
       "      <th>station_start_date</th>\n",
       "      <th>station_end_date</th>\n",
       "      <th>type_of_station</th>\n",
       "      <th>station_ozone_classification</th>\n",
       "      <th>station_type_of_area</th>\n",
       "      <th>station_subcat_rural_back</th>\n",
       "      <th>street_type</th>\n",
       "      <th>station_longitude_deg</th>\n",
       "      <th>station_altitude</th>\n",
       "      <th>station_city</th>\n",
       "      <th>lau_level1_code</th>\n",
       "      <th>lau_level2_code</th>\n",
       "      <th>lau_level2_name</th>\n",
       "      <th>EMEP_station</th>\n",
       "    </tr>\n",
       "  </thead>\n",
       "  <tbody>\n",
       "    <tr>\n",
       "      <th>0</th>\n",
       "      <td>AD0944A</td>\n",
       "      <td>944</td>\n",
       "      <td>AD</td>\n",
       "      <td>ANDORRA</td>\n",
       "      <td>Engolasters</td>\n",
       "      <td>2006-02-10</td>\n",
       "      <td>NaN</td>\n",
       "      <td>Background</td>\n",
       "      <td>NaN</td>\n",
       "      <td>rural</td>\n",
       "      <td>NaN</td>\n",
       "      <td>NaN</td>\n",
       "      <td>1.565014</td>\n",
       "      <td>1637</td>\n",
       "      <td>NaN</td>\n",
       "      <td>NaN</td>\n",
       "      <td>NaN</td>\n",
       "      <td>NaN</td>\n",
       "      <td>no</td>\n",
       "    </tr>\n",
       "    <tr>\n",
       "      <th>1</th>\n",
       "      <td>AD0945A</td>\n",
       "      <td>945</td>\n",
       "      <td>AD</td>\n",
       "      <td>ANDORRA</td>\n",
       "      <td>Envalira</td>\n",
       "      <td>2011-05-01</td>\n",
       "      <td>NaN</td>\n",
       "      <td>Background</td>\n",
       "      <td>NaN</td>\n",
       "      <td>rural</td>\n",
       "      <td>NaN</td>\n",
       "      <td>NaN</td>\n",
       "      <td>1.716986</td>\n",
       "      <td>2515</td>\n",
       "      <td>NaN</td>\n",
       "      <td>NaN</td>\n",
       "      <td>NaN</td>\n",
       "      <td>NaN</td>\n",
       "      <td>no</td>\n",
       "    </tr>\n",
       "    <tr>\n",
       "      <th>2</th>\n",
       "      <td>AD0942A</td>\n",
       "      <td>942</td>\n",
       "      <td>AD</td>\n",
       "      <td>ANDORRA</td>\n",
       "      <td>Escaldes-Engordany</td>\n",
       "      <td>2004-06-17</td>\n",
       "      <td>NaN</td>\n",
       "      <td>Background</td>\n",
       "      <td>NaN</td>\n",
       "      <td>urban</td>\n",
       "      <td>NaN</td>\n",
       "      <td>NaN</td>\n",
       "      <td>1.539172</td>\n",
       "      <td>1080</td>\n",
       "      <td>ANDORRA LA VELLA</td>\n",
       "      <td>NaN</td>\n",
       "      <td>NaN</td>\n",
       "      <td>NaN</td>\n",
       "      <td>no</td>\n",
       "    </tr>\n",
       "    <tr>\n",
       "      <th>3</th>\n",
       "      <td>AL0201A</td>\n",
       "      <td>AL360A01</td>\n",
       "      <td>AL</td>\n",
       "      <td>ALBANIA</td>\n",
       "      <td>Tirana Center</td>\n",
       "      <td>2010-01-06</td>\n",
       "      <td>NaN</td>\n",
       "      <td>Traffic</td>\n",
       "      <td>urban</td>\n",
       "      <td>urban</td>\n",
       "      <td>NaN</td>\n",
       "      <td>Canyon street: L/H &lt; 1.5</td>\n",
       "      <td>19.821772</td>\n",
       "      <td>162</td>\n",
       "      <td>TIRANA</td>\n",
       "      <td>NaN</td>\n",
       "      <td>NaN</td>\n",
       "      <td>NaN</td>\n",
       "      <td>no</td>\n",
       "    </tr>\n",
       "    <tr>\n",
       "      <th>4</th>\n",
       "      <td>AL0202A</td>\n",
       "      <td>AL360A02</td>\n",
       "      <td>AL</td>\n",
       "      <td>ALBANIA</td>\n",
       "      <td>Tirana IPH</td>\n",
       "      <td>2010-06-15</td>\n",
       "      <td>NaN</td>\n",
       "      <td>Traffic</td>\n",
       "      <td>suburban</td>\n",
       "      <td>suburban</td>\n",
       "      <td>NaN</td>\n",
       "      <td>Wide street: L/H &gt; 1.5</td>\n",
       "      <td>19.851667</td>\n",
       "      <td>207</td>\n",
       "      <td>TIRANA</td>\n",
       "      <td>NaN</td>\n",
       "      <td>NaN</td>\n",
       "      <td>NaN</td>\n",
       "      <td>no</td>\n",
       "    </tr>\n",
       "  </tbody>\n",
       "</table>\n",
       "</div>"
      ],
      "text/plain": [
       "  station_european_code station_local_code country_iso_code country_name  \\\n",
       "0               AD0944A                944               AD      ANDORRA   \n",
       "1               AD0945A                945               AD      ANDORRA   \n",
       "2               AD0942A                942               AD      ANDORRA   \n",
       "3               AL0201A           AL360A01               AL      ALBANIA   \n",
       "4               AL0202A           AL360A02               AL      ALBANIA   \n",
       "\n",
       "         station_name station_start_date station_end_date type_of_station  \\\n",
       "0         Engolasters         2006-02-10              NaN      Background   \n",
       "1            Envalira         2011-05-01              NaN      Background   \n",
       "2  Escaldes-Engordany         2004-06-17              NaN      Background   \n",
       "3       Tirana Center         2010-01-06              NaN         Traffic   \n",
       "4          Tirana IPH         2010-06-15              NaN         Traffic   \n",
       "\n",
       "  station_ozone_classification station_type_of_area station_subcat_rural_back  \\\n",
       "0                          NaN                rural                       NaN   \n",
       "1                          NaN                rural                       NaN   \n",
       "2                          NaN                urban                       NaN   \n",
       "3                        urban                urban                       NaN   \n",
       "4                     suburban             suburban                       NaN   \n",
       "\n",
       "                street_type  station_longitude_deg  station_altitude  \\\n",
       "0                       NaN               1.565014              1637   \n",
       "1                       NaN               1.716986              2515   \n",
       "2                       NaN               1.539172              1080   \n",
       "3  Canyon street: L/H < 1.5              19.821772               162   \n",
       "4    Wide street: L/H > 1.5              19.851667               207   \n",
       "\n",
       "       station_city lau_level1_code lau_level2_code lau_level2_name  \\\n",
       "0               NaN             NaN             NaN             NaN   \n",
       "1               NaN             NaN             NaN             NaN   \n",
       "2  ANDORRA LA VELLA             NaN             NaN             NaN   \n",
       "3            TIRANA             NaN             NaN             NaN   \n",
       "4            TIRANA             NaN             NaN             NaN   \n",
       "\n",
       "  EMEP_station  \n",
       "0           no  \n",
       "1           no  \n",
       "2           no  \n",
       "3           no  \n",
       "4           no  "
      ]
     },
     "execution_count": 32,
     "metadata": {},
     "output_type": "execute_result"
    }
   ],
   "source": [
    "new_airlinedata = airline_data.drop('station_latitude_deg',axis=1)\n",
    "new_airlinedata.head()"
   ]
  },
  {
   "cell_type": "markdown",
   "metadata": {},
   "source": [
    "### Stack and Unstack data"
   ]
  },
  {
   "cell_type": "code",
   "execution_count": 73,
   "metadata": {
    "collapsed": false
   },
   "outputs": [
    {
     "data": {
      "text/html": [
       "<div>\n",
       "<table border=\"1\" class=\"dataframe\">\n",
       "  <thead>\n",
       "    <tr style=\"text-align: right;\">\n",
       "      <th></th>\n",
       "      <th>A</th>\n",
       "      <th>B</th>\n",
       "      <th>C</th>\n",
       "    </tr>\n",
       "  </thead>\n",
       "  <tbody>\n",
       "    <tr>\n",
       "      <th>0</th>\n",
       "      <td>one</td>\n",
       "      <td>a</td>\n",
       "      <td>0</td>\n",
       "    </tr>\n",
       "    <tr>\n",
       "      <th>1</th>\n",
       "      <td>one</td>\n",
       "      <td>a</td>\n",
       "      <td>1</td>\n",
       "    </tr>\n",
       "    <tr>\n",
       "      <th>2</th>\n",
       "      <td>two</td>\n",
       "      <td>b</td>\n",
       "      <td>2</td>\n",
       "    </tr>\n",
       "    <tr>\n",
       "      <th>3</th>\n",
       "      <td>two</td>\n",
       "      <td>b</td>\n",
       "      <td>3</td>\n",
       "    </tr>\n",
       "  </tbody>\n",
       "</table>\n",
       "</div>"
      ],
      "text/plain": [
       "     A  B  C\n",
       "0  one  a  0\n",
       "1  one  a  1\n",
       "2  two  b  2\n",
       "3  two  b  3"
      ]
     },
     "execution_count": 73,
     "metadata": {},
     "output_type": "execute_result"
    }
   ],
   "source": [
    "df=pd.DataFrame({'A':['one', 'one','two', 'two'],'B':['a','a','b','b'],'C':[i for i in range(4)]})\n",
    "df"
   ]
  },
  {
   "cell_type": "code",
   "execution_count": 81,
   "metadata": {
    "collapsed": false
   },
   "outputs": [],
   "source": [
    "import pandas.util.testing as tm; tm.N = 3\n",
    "def unpivot(frame):\n",
    "    N, K = frame.shape\n",
    "    data = {'value' : frame.values.ravel('F'),\n",
    "            'variable' : np.asarray(frame.columns).repeat(N),\n",
    "            'date' : np.tile(np.asarray(frame.index), K)}\n",
    "    return pd.DataFrame(data, columns=['date', 'variable', 'value'])\n",
    "df = unpivot(tm.makeTimeDataFrame())\n"
   ]
  },
  {
   "cell_type": "code",
   "execution_count": 82,
   "metadata": {
    "collapsed": false
   },
   "outputs": [
    {
     "data": {
      "text/html": [
       "<div>\n",
       "<table border=\"1\" class=\"dataframe\">\n",
       "  <thead>\n",
       "    <tr style=\"text-align: right;\">\n",
       "      <th></th>\n",
       "      <th>date</th>\n",
       "      <th>variable</th>\n",
       "      <th>value</th>\n",
       "    </tr>\n",
       "  </thead>\n",
       "  <tbody>\n",
       "    <tr>\n",
       "      <th>0</th>\n",
       "      <td>2000-01-03</td>\n",
       "      <td>A</td>\n",
       "      <td>0.307708</td>\n",
       "    </tr>\n",
       "    <tr>\n",
       "      <th>1</th>\n",
       "      <td>2000-01-04</td>\n",
       "      <td>A</td>\n",
       "      <td>-0.374244</td>\n",
       "    </tr>\n",
       "    <tr>\n",
       "      <th>2</th>\n",
       "      <td>2000-01-05</td>\n",
       "      <td>A</td>\n",
       "      <td>0.884356</td>\n",
       "    </tr>\n",
       "    <tr>\n",
       "      <th>3</th>\n",
       "      <td>2000-01-03</td>\n",
       "      <td>B</td>\n",
       "      <td>-1.616559</td>\n",
       "    </tr>\n",
       "    <tr>\n",
       "      <th>4</th>\n",
       "      <td>2000-01-04</td>\n",
       "      <td>B</td>\n",
       "      <td>0.035088</td>\n",
       "    </tr>\n",
       "    <tr>\n",
       "      <th>5</th>\n",
       "      <td>2000-01-05</td>\n",
       "      <td>B</td>\n",
       "      <td>-0.079845</td>\n",
       "    </tr>\n",
       "    <tr>\n",
       "      <th>6</th>\n",
       "      <td>2000-01-03</td>\n",
       "      <td>C</td>\n",
       "      <td>0.154871</td>\n",
       "    </tr>\n",
       "    <tr>\n",
       "      <th>7</th>\n",
       "      <td>2000-01-04</td>\n",
       "      <td>C</td>\n",
       "      <td>-1.034501</td>\n",
       "    </tr>\n",
       "    <tr>\n",
       "      <th>8</th>\n",
       "      <td>2000-01-05</td>\n",
       "      <td>C</td>\n",
       "      <td>1.614770</td>\n",
       "    </tr>\n",
       "    <tr>\n",
       "      <th>9</th>\n",
       "      <td>2000-01-03</td>\n",
       "      <td>D</td>\n",
       "      <td>0.221502</td>\n",
       "    </tr>\n",
       "    <tr>\n",
       "      <th>10</th>\n",
       "      <td>2000-01-04</td>\n",
       "      <td>D</td>\n",
       "      <td>1.197832</td>\n",
       "    </tr>\n",
       "    <tr>\n",
       "      <th>11</th>\n",
       "      <td>2000-01-05</td>\n",
       "      <td>D</td>\n",
       "      <td>-0.947048</td>\n",
       "    </tr>\n",
       "  </tbody>\n",
       "</table>\n",
       "</div>"
      ],
      "text/plain": [
       "         date variable     value\n",
       "0  2000-01-03        A  0.307708\n",
       "1  2000-01-04        A -0.374244\n",
       "2  2000-01-05        A  0.884356\n",
       "3  2000-01-03        B -1.616559\n",
       "4  2000-01-04        B  0.035088\n",
       "5  2000-01-05        B -0.079845\n",
       "6  2000-01-03        C  0.154871\n",
       "7  2000-01-04        C -1.034501\n",
       "8  2000-01-05        C  1.614770\n",
       "9  2000-01-03        D  0.221502\n",
       "10 2000-01-04        D  1.197832\n",
       "11 2000-01-05        D -0.947048"
      ]
     },
     "execution_count": 82,
     "metadata": {},
     "output_type": "execute_result"
    }
   ],
   "source": [
    "df"
   ]
  },
  {
   "cell_type": "code",
   "execution_count": 83,
   "metadata": {
    "collapsed": false
   },
   "outputs": [
    {
     "data": {
      "text/html": [
       "<div>\n",
       "<table border=\"1\" class=\"dataframe\">\n",
       "  <thead>\n",
       "    <tr style=\"text-align: right;\">\n",
       "      <th></th>\n",
       "      <th>date</th>\n",
       "      <th>variable</th>\n",
       "      <th>value</th>\n",
       "    </tr>\n",
       "  </thead>\n",
       "  <tbody>\n",
       "    <tr>\n",
       "      <th>0</th>\n",
       "      <td>2000-01-03</td>\n",
       "      <td>A</td>\n",
       "      <td>0.307708</td>\n",
       "    </tr>\n",
       "    <tr>\n",
       "      <th>1</th>\n",
       "      <td>2000-01-04</td>\n",
       "      <td>A</td>\n",
       "      <td>-0.374244</td>\n",
       "    </tr>\n",
       "    <tr>\n",
       "      <th>2</th>\n",
       "      <td>2000-01-05</td>\n",
       "      <td>A</td>\n",
       "      <td>0.884356</td>\n",
       "    </tr>\n",
       "  </tbody>\n",
       "</table>\n",
       "</div>"
      ],
      "text/plain": [
       "        date variable     value\n",
       "0 2000-01-03        A  0.307708\n",
       "1 2000-01-04        A -0.374244\n",
       "2 2000-01-05        A  0.884356"
      ]
     },
     "execution_count": 83,
     "metadata": {},
     "output_type": "execute_result"
    }
   ],
   "source": [
    "df[df['variable'] == 'A']"
   ]
  },
  {
   "cell_type": "code",
   "execution_count": 84,
   "metadata": {
    "collapsed": false
   },
   "outputs": [
    {
     "data": {
      "text/html": [
       "<div>\n",
       "<table border=\"1\" class=\"dataframe\">\n",
       "  <thead>\n",
       "    <tr style=\"text-align: right;\">\n",
       "      <th>variable</th>\n",
       "      <th>A</th>\n",
       "      <th>B</th>\n",
       "      <th>C</th>\n",
       "      <th>D</th>\n",
       "    </tr>\n",
       "    <tr>\n",
       "      <th>date</th>\n",
       "      <th></th>\n",
       "      <th></th>\n",
       "      <th></th>\n",
       "      <th></th>\n",
       "    </tr>\n",
       "  </thead>\n",
       "  <tbody>\n",
       "    <tr>\n",
       "      <th>2000-01-03</th>\n",
       "      <td>0.307708</td>\n",
       "      <td>-1.616559</td>\n",
       "      <td>0.154871</td>\n",
       "      <td>0.221502</td>\n",
       "    </tr>\n",
       "    <tr>\n",
       "      <th>2000-01-04</th>\n",
       "      <td>-0.374244</td>\n",
       "      <td>0.035088</td>\n",
       "      <td>-1.034501</td>\n",
       "      <td>1.197832</td>\n",
       "    </tr>\n",
       "    <tr>\n",
       "      <th>2000-01-05</th>\n",
       "      <td>0.884356</td>\n",
       "      <td>-0.079845</td>\n",
       "      <td>1.614770</td>\n",
       "      <td>-0.947048</td>\n",
       "    </tr>\n",
       "  </tbody>\n",
       "</table>\n",
       "</div>"
      ],
      "text/plain": [
       "variable           A         B         C         D\n",
       "date                                              \n",
       "2000-01-03  0.307708 -1.616559  0.154871  0.221502\n",
       "2000-01-04 -0.374244  0.035088 -1.034501  1.197832\n",
       "2000-01-05  0.884356 -0.079845  1.614770 -0.947048"
      ]
     },
     "execution_count": 84,
     "metadata": {},
     "output_type": "execute_result"
    }
   ],
   "source": [
    "df.pivot(index='date', columns='variable', values='value')"
   ]
  },
  {
   "cell_type": "markdown",
   "metadata": {},
   "source": [
    "## Stack"
   ]
  },
  {
   "cell_type": "code",
   "execution_count": 87,
   "metadata": {
    "collapsed": false
   },
   "outputs": [
    {
     "data": {
      "text/plain": [
       "date        variable\n",
       "2000-01-03  A           0.307708\n",
       "            B          -1.616559\n",
       "            C           0.154871\n",
       "            D           0.221502\n",
       "2000-01-04  A          -0.374244\n",
       "            B           0.035088\n",
       "            C          -1.034501\n",
       "            D           1.197832\n",
       "2000-01-05  A           0.884356\n",
       "            B          -0.079845\n",
       "            C           1.614770\n",
       "            D          -0.947048\n",
       "dtype: float64"
      ]
     },
     "execution_count": 87,
     "metadata": {},
     "output_type": "execute_result"
    }
   ],
   "source": [
    "stacked = df.pivot(index='date', columns='variable', values='value').stack()\n",
    "stacked\n"
   ]
  },
  {
   "cell_type": "markdown",
   "metadata": {},
   "source": [
    "## Unstack"
   ]
  },
  {
   "cell_type": "code",
   "execution_count": 94,
   "metadata": {
    "collapsed": false
   },
   "outputs": [
    {
     "data": {
      "text/html": [
       "<div>\n",
       "<table border=\"1\" class=\"dataframe\">\n",
       "  <thead>\n",
       "    <tr style=\"text-align: right;\">\n",
       "      <th>variable</th>\n",
       "      <th>A</th>\n",
       "      <th>B</th>\n",
       "      <th>C</th>\n",
       "      <th>D</th>\n",
       "    </tr>\n",
       "    <tr>\n",
       "      <th>date</th>\n",
       "      <th></th>\n",
       "      <th></th>\n",
       "      <th></th>\n",
       "      <th></th>\n",
       "    </tr>\n",
       "  </thead>\n",
       "  <tbody>\n",
       "    <tr>\n",
       "      <th>2000-01-03</th>\n",
       "      <td>0.307708</td>\n",
       "      <td>-1.616559</td>\n",
       "      <td>0.154871</td>\n",
       "      <td>0.221502</td>\n",
       "    </tr>\n",
       "    <tr>\n",
       "      <th>2000-01-04</th>\n",
       "      <td>-0.374244</td>\n",
       "      <td>0.035088</td>\n",
       "      <td>-1.034501</td>\n",
       "      <td>1.197832</td>\n",
       "    </tr>\n",
       "    <tr>\n",
       "      <th>2000-01-05</th>\n",
       "      <td>0.884356</td>\n",
       "      <td>-0.079845</td>\n",
       "      <td>1.614770</td>\n",
       "      <td>-0.947048</td>\n",
       "    </tr>\n",
       "  </tbody>\n",
       "</table>\n",
       "</div>"
      ],
      "text/plain": [
       "variable           A         B         C         D\n",
       "date                                              \n",
       "2000-01-03  0.307708 -1.616559  0.154871  0.221502\n",
       "2000-01-04 -0.374244  0.035088 -1.034501  1.197832\n",
       "2000-01-05  0.884356 -0.079845  1.614770 -0.947048"
      ]
     },
     "execution_count": 94,
     "metadata": {},
     "output_type": "execute_result"
    }
   ],
   "source": [
    "stacked.unstack()"
   ]
  },
  {
   "cell_type": "code",
   "execution_count": 96,
   "metadata": {
    "collapsed": false
   },
   "outputs": [
    {
     "data": {
      "text/html": [
       "<div>\n",
       "<table border=\"1\" class=\"dataframe\">\n",
       "  <thead>\n",
       "    <tr style=\"text-align: right;\">\n",
       "      <th>date</th>\n",
       "      <th>2000-01-03 00:00:00</th>\n",
       "      <th>2000-01-04 00:00:00</th>\n",
       "      <th>2000-01-05 00:00:00</th>\n",
       "    </tr>\n",
       "    <tr>\n",
       "      <th>variable</th>\n",
       "      <th></th>\n",
       "      <th></th>\n",
       "      <th></th>\n",
       "    </tr>\n",
       "  </thead>\n",
       "  <tbody>\n",
       "    <tr>\n",
       "      <th>A</th>\n",
       "      <td>0.307708</td>\n",
       "      <td>-0.374244</td>\n",
       "      <td>0.884356</td>\n",
       "    </tr>\n",
       "    <tr>\n",
       "      <th>B</th>\n",
       "      <td>-1.616559</td>\n",
       "      <td>0.035088</td>\n",
       "      <td>-0.079845</td>\n",
       "    </tr>\n",
       "    <tr>\n",
       "      <th>C</th>\n",
       "      <td>0.154871</td>\n",
       "      <td>-1.034501</td>\n",
       "      <td>1.614770</td>\n",
       "    </tr>\n",
       "    <tr>\n",
       "      <th>D</th>\n",
       "      <td>0.221502</td>\n",
       "      <td>1.197832</td>\n",
       "      <td>-0.947048</td>\n",
       "    </tr>\n",
       "  </tbody>\n",
       "</table>\n",
       "</div>"
      ],
      "text/plain": [
       "date      2000-01-03  2000-01-04  2000-01-05\n",
       "variable                                    \n",
       "A           0.307708   -0.374244    0.884356\n",
       "B          -1.616559    0.035088   -0.079845\n",
       "C           0.154871   -1.034501    1.614770\n",
       "D           0.221502    1.197832   -0.947048"
      ]
     },
     "execution_count": 96,
     "metadata": {},
     "output_type": "execute_result"
    }
   ],
   "source": [
    "stacked.unstack(0)"
   ]
  },
  {
   "cell_type": "code",
   "execution_count": 97,
   "metadata": {
    "collapsed": false
   },
   "outputs": [
    {
     "data": {
      "text/html": [
       "<div>\n",
       "<table border=\"1\" class=\"dataframe\">\n",
       "  <thead>\n",
       "    <tr style=\"text-align: right;\">\n",
       "      <th>variable</th>\n",
       "      <th>A</th>\n",
       "      <th>B</th>\n",
       "      <th>C</th>\n",
       "      <th>D</th>\n",
       "    </tr>\n",
       "    <tr>\n",
       "      <th>date</th>\n",
       "      <th></th>\n",
       "      <th></th>\n",
       "      <th></th>\n",
       "      <th></th>\n",
       "    </tr>\n",
       "  </thead>\n",
       "  <tbody>\n",
       "    <tr>\n",
       "      <th>2000-01-03</th>\n",
       "      <td>0.307708</td>\n",
       "      <td>-1.616559</td>\n",
       "      <td>0.154871</td>\n",
       "      <td>0.221502</td>\n",
       "    </tr>\n",
       "    <tr>\n",
       "      <th>2000-01-04</th>\n",
       "      <td>-0.374244</td>\n",
       "      <td>0.035088</td>\n",
       "      <td>-1.034501</td>\n",
       "      <td>1.197832</td>\n",
       "    </tr>\n",
       "    <tr>\n",
       "      <th>2000-01-05</th>\n",
       "      <td>0.884356</td>\n",
       "      <td>-0.079845</td>\n",
       "      <td>1.614770</td>\n",
       "      <td>-0.947048</td>\n",
       "    </tr>\n",
       "  </tbody>\n",
       "</table>\n",
       "</div>"
      ],
      "text/plain": [
       "variable           A         B         C         D\n",
       "date                                              \n",
       "2000-01-03  0.307708 -1.616559  0.154871  0.221502\n",
       "2000-01-04 -0.374244  0.035088 -1.034501  1.197832\n",
       "2000-01-05  0.884356 -0.079845  1.614770 -0.947048"
      ]
     },
     "execution_count": 97,
     "metadata": {},
     "output_type": "execute_result"
    }
   ],
   "source": [
    "stacked.unstack(1)"
   ]
  },
  {
   "cell_type": "code",
   "execution_count": 103,
   "metadata": {
    "collapsed": false
   },
   "outputs": [
    {
     "data": {
      "text/html": [
       "<div>\n",
       "<table border=\"1\" class=\"dataframe\">\n",
       "  <thead>\n",
       "    <tr style=\"text-align: right;\">\n",
       "      <th>date</th>\n",
       "      <th>2000-01-03 00:00:00</th>\n",
       "      <th>2000-01-04 00:00:00</th>\n",
       "      <th>2000-01-05 00:00:00</th>\n",
       "    </tr>\n",
       "    <tr>\n",
       "      <th>variable</th>\n",
       "      <th></th>\n",
       "      <th></th>\n",
       "      <th></th>\n",
       "    </tr>\n",
       "  </thead>\n",
       "  <tbody>\n",
       "    <tr>\n",
       "      <th>A</th>\n",
       "      <td>0.307708</td>\n",
       "      <td>-0.374244</td>\n",
       "      <td>0.884356</td>\n",
       "    </tr>\n",
       "    <tr>\n",
       "      <th>B</th>\n",
       "      <td>-1.616559</td>\n",
       "      <td>0.035088</td>\n",
       "      <td>-0.079845</td>\n",
       "    </tr>\n",
       "    <tr>\n",
       "      <th>C</th>\n",
       "      <td>0.154871</td>\n",
       "      <td>-1.034501</td>\n",
       "      <td>1.614770</td>\n",
       "    </tr>\n",
       "    <tr>\n",
       "      <th>D</th>\n",
       "      <td>0.221502</td>\n",
       "      <td>1.197832</td>\n",
       "      <td>-0.947048</td>\n",
       "    </tr>\n",
       "  </tbody>\n",
       "</table>\n",
       "</div>"
      ],
      "text/plain": [
       "date      2000-01-03  2000-01-04  2000-01-05\n",
       "variable                                    \n",
       "A           0.307708   -0.374244    0.884356\n",
       "B          -1.616559    0.035088   -0.079845\n",
       "C           0.154871   -1.034501    1.614770\n",
       "D           0.221502    1.197832   -0.947048"
      ]
     },
     "execution_count": 103,
     "metadata": {},
     "output_type": "execute_result"
    }
   ],
   "source": [
    "stacked.unstack('date')"
   ]
  },
  {
   "cell_type": "code",
   "execution_count": 105,
   "metadata": {
    "collapsed": false
   },
   "outputs": [
    {
     "data": {
      "text/html": [
       "<div>\n",
       "<table border=\"1\" class=\"dataframe\">\n",
       "  <thead>\n",
       "    <tr style=\"text-align: right;\">\n",
       "      <th>date</th>\n",
       "      <th>2000-01-03 00:00:00</th>\n",
       "      <th>2000-01-04 00:00:00</th>\n",
       "      <th>2000-01-05 00:00:00</th>\n",
       "    </tr>\n",
       "    <tr>\n",
       "      <th>variable</th>\n",
       "      <th></th>\n",
       "      <th></th>\n",
       "      <th></th>\n",
       "    </tr>\n",
       "  </thead>\n",
       "  <tbody>\n",
       "    <tr>\n",
       "      <th>A</th>\n",
       "      <td>0.307708</td>\n",
       "      <td>-0.374244</td>\n",
       "      <td>0.884356</td>\n",
       "    </tr>\n",
       "    <tr>\n",
       "      <th>B</th>\n",
       "      <td>-1.616559</td>\n",
       "      <td>0.035088</td>\n",
       "      <td>-0.079845</td>\n",
       "    </tr>\n",
       "    <tr>\n",
       "      <th>C</th>\n",
       "      <td>0.154871</td>\n",
       "      <td>-1.034501</td>\n",
       "      <td>1.614770</td>\n",
       "    </tr>\n",
       "    <tr>\n",
       "      <th>D</th>\n",
       "      <td>0.221502</td>\n",
       "      <td>1.197832</td>\n",
       "      <td>-0.947048</td>\n",
       "    </tr>\n",
       "  </tbody>\n",
       "</table>\n",
       "</div>"
      ],
      "text/plain": [
       "date      2000-01-03  2000-01-04  2000-01-05\n",
       "variable                                    \n",
       "A           0.307708   -0.374244    0.884356\n",
       "B          -1.616559    0.035088   -0.079845\n",
       "C           0.154871   -1.034501    1.614770\n",
       "D           0.221502    1.197832   -0.947048"
      ]
     },
     "execution_count": 105,
     "metadata": {},
     "output_type": "execute_result"
    }
   ],
   "source": [
    "stacked.unstack('date')"
   ]
  },
  {
   "cell_type": "markdown",
   "metadata": {
    "collapsed": true
   },
   "source": [
    "#### Pivot Table using pivot_table"
   ]
  },
  {
   "cell_type": "code",
   "execution_count": 3,
   "metadata": {
    "collapsed": false
   },
   "outputs": [
    {
     "data": {
      "text/html": [
       "<div>\n",
       "<table border=\"1\" class=\"dataframe\">\n",
       "  <thead>\n",
       "    <tr style=\"text-align: right;\">\n",
       "      <th></th>\n",
       "      <th>A</th>\n",
       "      <th>B</th>\n",
       "      <th>C</th>\n",
       "    </tr>\n",
       "  </thead>\n",
       "  <tbody>\n",
       "    <tr>\n",
       "      <th>0</th>\n",
       "      <td>one</td>\n",
       "      <td>a</td>\n",
       "      <td>0</td>\n",
       "    </tr>\n",
       "    <tr>\n",
       "      <th>1</th>\n",
       "      <td>one</td>\n",
       "      <td>a</td>\n",
       "      <td>1</td>\n",
       "    </tr>\n",
       "    <tr>\n",
       "      <th>2</th>\n",
       "      <td>two</td>\n",
       "      <td>b</td>\n",
       "      <td>2</td>\n",
       "    </tr>\n",
       "    <tr>\n",
       "      <th>3</th>\n",
       "      <td>two</td>\n",
       "      <td>b</td>\n",
       "      <td>3</td>\n",
       "    </tr>\n",
       "  </tbody>\n",
       "</table>\n",
       "</div>"
      ],
      "text/plain": [
       "     A  B  C\n",
       "0  one  a  0\n",
       "1  one  a  1\n",
       "2  two  b  2\n",
       "3  two  b  3"
      ]
     },
     "execution_count": 3,
     "metadata": {},
     "output_type": "execute_result"
    }
   ],
   "source": [
    "df=pd.DataFrame({'A':['one', 'one','two', 'two'],'B':['a','a','b','b'],'C':[i for i in range(4)]})\n",
    "df"
   ]
  },
  {
   "cell_type": "code",
   "execution_count": 22,
   "metadata": {
    "collapsed": false
   },
   "outputs": [
    {
     "data": {
      "text/html": [
       "<div>\n",
       "<table border=\"1\" class=\"dataframe\">\n",
       "  <thead>\n",
       "    <tr style=\"text-align: right;\">\n",
       "      <th>B</th>\n",
       "      <th>a</th>\n",
       "      <th>b</th>\n",
       "    </tr>\n",
       "    <tr>\n",
       "      <th>A</th>\n",
       "      <th></th>\n",
       "      <th></th>\n",
       "    </tr>\n",
       "  </thead>\n",
       "  <tbody>\n",
       "    <tr>\n",
       "      <th>one</th>\n",
       "      <td>0.5</td>\n",
       "      <td>NaN</td>\n",
       "    </tr>\n",
       "    <tr>\n",
       "      <th>two</th>\n",
       "      <td>NaN</td>\n",
       "      <td>2.5</td>\n",
       "    </tr>\n",
       "  </tbody>\n",
       "</table>\n",
       "</div>"
      ],
      "text/plain": [
       "B      a    b\n",
       "A            \n",
       "one  0.5  NaN\n",
       "two  NaN  2.5"
      ]
     },
     "execution_count": 22,
     "metadata": {},
     "output_type": "execute_result"
    }
   ],
   "source": [
    "df.pivot_table(index='A', columns='B', values='C',aggfunc=np.mean)"
   ]
  },
  {
   "cell_type": "markdown",
   "metadata": {},
   "source": [
    "#### head and tail funcs for the data frame\n"
   ]
  },
  {
   "cell_type": "code",
   "execution_count": 25,
   "metadata": {
    "collapsed": false
   },
   "outputs": [
    {
     "data": {
      "text/html": [
       "<div>\n",
       "<table border=\"1\" class=\"dataframe\">\n",
       "  <thead>\n",
       "    <tr style=\"text-align: right;\">\n",
       "      <th></th>\n",
       "      <th>A</th>\n",
       "      <th>B</th>\n",
       "      <th>C</th>\n",
       "    </tr>\n",
       "  </thead>\n",
       "  <tbody>\n",
       "    <tr>\n",
       "      <th>0</th>\n",
       "      <td>one</td>\n",
       "      <td>a</td>\n",
       "      <td>0</td>\n",
       "    </tr>\n",
       "  </tbody>\n",
       "</table>\n",
       "</div>"
      ],
      "text/plain": [
       "     A  B  C\n",
       "0  one  a  0"
      ]
     },
     "execution_count": 25,
     "metadata": {},
     "output_type": "execute_result"
    }
   ],
   "source": [
    "df.head(1)"
   ]
  },
  {
   "cell_type": "code",
   "execution_count": 26,
   "metadata": {
    "collapsed": false
   },
   "outputs": [
    {
     "data": {
      "text/html": [
       "<div>\n",
       "<table border=\"1\" class=\"dataframe\">\n",
       "  <thead>\n",
       "    <tr style=\"text-align: right;\">\n",
       "      <th></th>\n",
       "      <th>A</th>\n",
       "      <th>B</th>\n",
       "      <th>C</th>\n",
       "    </tr>\n",
       "  </thead>\n",
       "  <tbody>\n",
       "    <tr>\n",
       "      <th>3</th>\n",
       "      <td>two</td>\n",
       "      <td>b</td>\n",
       "      <td>3</td>\n",
       "    </tr>\n",
       "  </tbody>\n",
       "</table>\n",
       "</div>"
      ],
      "text/plain": [
       "     A  B  C\n",
       "3  two  b  3"
      ]
     },
     "execution_count": 26,
     "metadata": {},
     "output_type": "execute_result"
    }
   ],
   "source": [
    "df.tail(1)"
   ]
  },
  {
   "cell_type": "code",
   "execution_count": 27,
   "metadata": {
    "collapsed": false
   },
   "outputs": [
    {
     "name": "stdout",
     "output_type": "stream",
     "text": [
      "<class 'pandas.core.frame.DataFrame'>\n",
      "RangeIndex: 4 entries, 0 to 3\n",
      "Data columns (total 3 columns):\n",
      "A    4 non-null object\n",
      "B    4 non-null object\n",
      "C    4 non-null int64\n",
      "dtypes: int64(1), object(2)\n",
      "memory usage: 104.0+ bytes\n"
     ]
    }
   ],
   "source": [
    "df.info()"
   ]
  },
  {
   "cell_type": "code",
   "execution_count": 28,
   "metadata": {
    "collapsed": false
   },
   "outputs": [
    {
     "data": {
      "text/html": [
       "<div>\n",
       "<table border=\"1\" class=\"dataframe\">\n",
       "  <thead>\n",
       "    <tr style=\"text-align: right;\">\n",
       "      <th></th>\n",
       "      <th>C</th>\n",
       "    </tr>\n",
       "  </thead>\n",
       "  <tbody>\n",
       "    <tr>\n",
       "      <th>count</th>\n",
       "      <td>4.000000</td>\n",
       "    </tr>\n",
       "    <tr>\n",
       "      <th>mean</th>\n",
       "      <td>1.500000</td>\n",
       "    </tr>\n",
       "    <tr>\n",
       "      <th>std</th>\n",
       "      <td>1.290994</td>\n",
       "    </tr>\n",
       "    <tr>\n",
       "      <th>min</th>\n",
       "      <td>0.000000</td>\n",
       "    </tr>\n",
       "    <tr>\n",
       "      <th>25%</th>\n",
       "      <td>0.750000</td>\n",
       "    </tr>\n",
       "    <tr>\n",
       "      <th>50%</th>\n",
       "      <td>1.500000</td>\n",
       "    </tr>\n",
       "    <tr>\n",
       "      <th>75%</th>\n",
       "      <td>2.250000</td>\n",
       "    </tr>\n",
       "    <tr>\n",
       "      <th>max</th>\n",
       "      <td>3.000000</td>\n",
       "    </tr>\n",
       "  </tbody>\n",
       "</table>\n",
       "</div>"
      ],
      "text/plain": [
       "              C\n",
       "count  4.000000\n",
       "mean   1.500000\n",
       "std    1.290994\n",
       "min    0.000000\n",
       "25%    0.750000\n",
       "50%    1.500000\n",
       "75%    2.250000\n",
       "max    3.000000"
      ]
     },
     "execution_count": 28,
     "metadata": {},
     "output_type": "execute_result"
    }
   ],
   "source": [
    "df.describe()"
   ]
  },
  {
   "cell_type": "code",
   "execution_count": 35,
   "metadata": {
    "collapsed": false
   },
   "outputs": [
    {
     "data": {
      "text/plain": [
       "<matplotlib.axes._subplots.AxesSubplot at 0xaed1826c>"
      ]
     },
     "execution_count": 35,
     "metadata": {},
     "output_type": "execute_result"
    },
    {
     "data": {
      "image/png": "[encoded data removed]",
      "text/plain": [
       "<matplotlib.figure.Figure at 0xaed09e8c>"
      ]
     },
     "metadata": {},
     "output_type": "display_data"
    }
   ],
   "source": [
    "df.plot(kind='box', ylim=[0,8])"
   ]
  },
  {
   "cell_type": "code",
   "execution_count": 36,
   "metadata": {
    "collapsed": false
   },
   "outputs": [
    {
     "data": {
      "text/plain": [
       "<matplotlib.axes._subplots.AxesSubplot at 0xaecd5a6c>"
      ]
     },
     "execution_count": 36,
     "metadata": {},
     "output_type": "execute_result"
    },
    {
     "data": {
      "image/png": "[encoded data removed]",
      "text/plain": [
       "<matplotlib.figure.Figure at 0xaecda94c>"
      ]
     },
     "metadata": {},
     "output_type": "display_data"
    }
   ],
   "source": [
    "df.plot()"
   ]
  },
  {
   "cell_type": "code",
   "execution_count": 37,
   "metadata": {
    "collapsed": false
   },
   "outputs": [
    {
     "data": {
      "text/plain": [
       "RangeIndex(start=0, stop=4, step=1)"
      ]
     },
     "execution_count": 37,
     "metadata": {},
     "output_type": "execute_result"
    }
   ],
   "source": [
    "df.index"
   ]
  },
  {
   "cell_type": "code",
   "execution_count": 41,
   "metadata": {
    "collapsed": false
   },
   "outputs": [
    {
     "data": {
      "text/plain": [
       "0    one\n",
       "1    one\n",
       "2    two\n",
       "3    two\n",
       "Name: A, dtype: object"
      ]
     },
     "execution_count": 41,
     "metadata": {},
     "output_type": "execute_result"
    }
   ],
   "source": [
    "df[\"A\"]"
   ]
  },
  {
   "cell_type": "code",
   "execution_count": 57,
   "metadata": {
    "collapsed": false
   },
   "outputs": [
    {
     "data": {
      "text/html": [
       "<div>\n",
       "<table border=\"1\" class=\"dataframe\">\n",
       "  <thead>\n",
       "    <tr style=\"text-align: right;\">\n",
       "      <th></th>\n",
       "      <th>A</th>\n",
       "      <th>B</th>\n",
       "      <th>C</th>\n",
       "    </tr>\n",
       "  </thead>\n",
       "  <tbody>\n",
       "    <tr>\n",
       "      <th>0</th>\n",
       "      <td>one</td>\n",
       "      <td>a</td>\n",
       "      <td>0</td>\n",
       "    </tr>\n",
       "    <tr>\n",
       "      <th>1</th>\n",
       "      <td>one</td>\n",
       "      <td>a</td>\n",
       "      <td>1</td>\n",
       "    </tr>\n",
       "    <tr>\n",
       "      <th>2</th>\n",
       "      <td>two</td>\n",
       "      <td>b</td>\n",
       "      <td>2</td>\n",
       "    </tr>\n",
       "    <tr>\n",
       "      <th>3</th>\n",
       "      <td>two</td>\n",
       "      <td>b</td>\n",
       "      <td>3</td>\n",
       "    </tr>\n",
       "  </tbody>\n",
       "</table>\n",
       "</div>"
      ],
      "text/plain": [
       "     A  B  C\n",
       "0  one  a  0\n",
       "1  one  a  1\n",
       "2  two  b  2\n",
       "3  two  b  3"
      ]
     },
     "execution_count": 57,
     "metadata": {},
     "output_type": "execute_result"
    }
   ],
   "source": [
    "df"
   ]
  },
  {
   "cell_type": "code",
   "execution_count": 53,
   "metadata": {
    "collapsed": false
   },
   "outputs": [
    {
     "data": {
      "text/html": [
       "<div>\n",
       "<table border=\"1\" class=\"dataframe\">\n",
       "  <thead>\n",
       "    <tr style=\"text-align: right;\">\n",
       "      <th></th>\n",
       "      <th>A</th>\n",
       "      <th>B</th>\n",
       "      <th>C</th>\n",
       "      <th>D</th>\n",
       "    </tr>\n",
       "  </thead>\n",
       "  <tbody>\n",
       "    <tr>\n",
       "      <th>2000-01-01</th>\n",
       "      <td>-1.093362</td>\n",
       "      <td>-1.945607</td>\n",
       "      <td>0.023078</td>\n",
       "      <td>0.029393</td>\n",
       "    </tr>\n",
       "    <tr>\n",
       "      <th>2000-01-02</th>\n",
       "      <td>0.657322</td>\n",
       "      <td>1.482542</td>\n",
       "      <td>0.036511</td>\n",
       "      <td>-0.280776</td>\n",
       "    </tr>\n",
       "    <tr>\n",
       "      <th>2000-01-03</th>\n",
       "      <td>1.144299</td>\n",
       "      <td>-1.051218</td>\n",
       "      <td>1.261069</td>\n",
       "      <td>0.474791</td>\n",
       "    </tr>\n",
       "    <tr>\n",
       "      <th>2000-01-04</th>\n",
       "      <td>-0.107704</td>\n",
       "      <td>-0.228706</td>\n",
       "      <td>1.397333</td>\n",
       "      <td>-1.268177</td>\n",
       "    </tr>\n",
       "    <tr>\n",
       "      <th>2000-01-05</th>\n",
       "      <td>0.709955</td>\n",
       "      <td>0.620618</td>\n",
       "      <td>-0.982270</td>\n",
       "      <td>-0.278377</td>\n",
       "    </tr>\n",
       "    <tr>\n",
       "      <th>2000-01-06</th>\n",
       "      <td>-1.343598</td>\n",
       "      <td>0.076897</td>\n",
       "      <td>-0.636455</td>\n",
       "      <td>-0.280574</td>\n",
       "    </tr>\n",
       "    <tr>\n",
       "      <th>2000-01-07</th>\n",
       "      <td>-0.503674</td>\n",
       "      <td>-1.034541</td>\n",
       "      <td>0.150421</td>\n",
       "      <td>1.550754</td>\n",
       "    </tr>\n",
       "    <tr>\n",
       "      <th>2000-01-08</th>\n",
       "      <td>1.478866</td>\n",
       "      <td>2.775901</td>\n",
       "      <td>-0.969762</td>\n",
       "      <td>0.252397</td>\n",
       "    </tr>\n",
       "  </tbody>\n",
       "</table>\n",
       "</div>"
      ],
      "text/plain": [
       "                   A         B         C         D\n",
       "2000-01-01 -1.093362 -1.945607  0.023078  0.029393\n",
       "2000-01-02  0.657322  1.482542  0.036511 -0.280776\n",
       "2000-01-03  1.144299 -1.051218  1.261069  0.474791\n",
       "2000-01-04 -0.107704 -0.228706  1.397333 -1.268177\n",
       "2000-01-05  0.709955  0.620618 -0.982270 -0.278377\n",
       "2000-01-06 -1.343598  0.076897 -0.636455 -0.280574\n",
       "2000-01-07 -0.503674 -1.034541  0.150421  1.550754\n",
       "2000-01-08  1.478866  2.775901 -0.969762  0.252397"
      ]
     },
     "execution_count": 53,
     "metadata": {},
     "output_type": "execute_result"
    }
   ],
   "source": [
    "dates = pd.date_range('1/1/2000', periods=8)\n",
    "df1 = pd.DataFrame(np.random.randn(8, 4), index=dates, columns=['A', 'B', 'C', 'D'])\n",
    "df1"
   ]
  },
  {
   "cell_type": "code",
   "execution_count": 54,
   "metadata": {
    "collapsed": false
   },
   "outputs": [
    {
     "data": {
      "text/html": [
       "<div>\n",
       "<table border=\"1\" class=\"dataframe\">\n",
       "  <thead>\n",
       "    <tr style=\"text-align: right;\">\n",
       "      <th></th>\n",
       "      <th>A</th>\n",
       "      <th>B</th>\n",
       "      <th>C</th>\n",
       "      <th>D</th>\n",
       "    </tr>\n",
       "  </thead>\n",
       "  <tbody>\n",
       "    <tr>\n",
       "      <th>2000-01-01</th>\n",
       "      <td>-1.093362</td>\n",
       "      <td>-1.945607</td>\n",
       "      <td>0.023078</td>\n",
       "      <td>0.029393</td>\n",
       "    </tr>\n",
       "    <tr>\n",
       "      <th>2000-01-02</th>\n",
       "      <td>0.657322</td>\n",
       "      <td>1.482542</td>\n",
       "      <td>0.036511</td>\n",
       "      <td>-0.280776</td>\n",
       "    </tr>\n",
       "    <tr>\n",
       "      <th>2000-01-03</th>\n",
       "      <td>1.144299</td>\n",
       "      <td>-1.051218</td>\n",
       "      <td>1.261069</td>\n",
       "      <td>0.474791</td>\n",
       "    </tr>\n",
       "    <tr>\n",
       "      <th>2000-01-04</th>\n",
       "      <td>-0.107704</td>\n",
       "      <td>-0.228706</td>\n",
       "      <td>1.397333</td>\n",
       "      <td>-1.268177</td>\n",
       "    </tr>\n",
       "  </tbody>\n",
       "</table>\n",
       "</div>"
      ],
      "text/plain": [
       "                   A         B         C         D\n",
       "2000-01-01 -1.093362 -1.945607  0.023078  0.029393\n",
       "2000-01-02  0.657322  1.482542  0.036511 -0.280776\n",
       "2000-01-03  1.144299 -1.051218  1.261069  0.474791\n",
       "2000-01-04 -0.107704 -0.228706  1.397333 -1.268177"
      ]
     },
     "execution_count": 54,
     "metadata": {},
     "output_type": "execute_result"
    }
   ],
   "source": [
    "df1[\"2000-01-01\":\"2000-01-04\"]\n"
   ]
  },
  {
   "cell_type": "code",
   "execution_count": null,
   "metadata": {
    "collapsed": true
   },
   "outputs": [],
   "source": []
  }
 ],
 "metadata": {
  "kernelspec": {
   "display_name": "Python 3",
   "language": "python",
   "name": "python3"
  },
  "language_info": {
   "codemirror_mode": {
    "name": "ipython",
    "version": 3
   },
   "file_extension": ".py",
   "mimetype": "text/x-python",
   "name": "python",
   "nbconvert_exporter": "python",
   "pygments_lexer": "ipython3",
   "version": "3.4.3+"
  }
 },
 "nbformat": 4,
 "nbformat_minor": 0
}
